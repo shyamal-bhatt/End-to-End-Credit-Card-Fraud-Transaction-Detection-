{
 "cells": [
  {
   "cell_type": "markdown",
   "id": "303d47e8",
   "metadata": {},
   "source": [
    "# **Credit Card Fraud Transaction Detection**\n",
    "\n",
    "\n"
   ]
  },
  {
   "cell_type": "code",
   "execution_count": 3,
   "id": "d4d80d48-6f20-4306-99e7-b74384a9cedf",
   "metadata": {},
   "outputs": [],
   "source": [
    "import pandas as pd\n",
    "import numpy as np\n",
    "\n",
    "\n",
    "import plotly.express as px\n",
    "import plotly.graph_objects as go\n",
    "from plotly.subplots import make_subplots\n",
    "\n",
    "import os"
   ]
  },
  {
   "cell_type": "code",
   "execution_count": 4,
   "id": "b1e7d761",
   "metadata": {},
   "outputs": [
    {
     "data": {
      "text/plain": [
       "'d:\\\\github uploads\\\\Credit Card Fraud Transaction\\\\Notebooks'"
      ]
     },
     "execution_count": 4,
     "metadata": {},
     "output_type": "execute_result"
    }
   ],
   "source": [
    "os.getcwd()"
   ]
  },
  {
   "cell_type": "code",
   "execution_count": 5,
   "id": "b868c487",
   "metadata": {},
   "outputs": [],
   "source": [
    "df = pd.read_csv(\"..\\\\Credit Card Transactions Data\\\\Raw\\\\credit_card_transactions.csv\")"
   ]
  },
  {
   "cell_type": "markdown",
   "id": "eb82a0eb",
   "metadata": {},
   "source": [
    "***Looking thoroug the data and Data type Checks***"
   ]
  },
  {
   "cell_type": "code",
   "execution_count": 6,
   "id": "247c7939",
   "metadata": {},
   "outputs": [
    {
     "data": {
      "text/plain": [
       "Index(['Unnamed: 0', 'trans_date_trans_time', 'cc_num', 'merchant', 'category',\n",
       "       'amt', 'first', 'last', 'gender', 'street', 'city', 'state', 'zip',\n",
       "       'lat', 'long', 'city_pop', 'job', 'dob', 'trans_num', 'unix_time',\n",
       "       'merch_lat', 'merch_long', 'is_fraud', 'merch_zipcode'],\n",
       "      dtype='object')"
      ]
     },
     "execution_count": 6,
     "metadata": {},
     "output_type": "execute_result"
    }
   ],
   "source": [
    "df.columns"
   ]
  },
  {
   "cell_type": "code",
   "execution_count": 7,
   "id": "65634488",
   "metadata": {},
   "outputs": [],
   "source": [
    "df.drop([\"Unnamed: 0\"], axis=1, inplace=True)"
   ]
  },
  {
   "cell_type": "code",
   "execution_count": 8,
   "id": "73341722",
   "metadata": {},
   "outputs": [
    {
     "data": {
      "text/plain": [
       "job\n",
       "Film/video editor             9779\n",
       "Exhibition designer           9199\n",
       "Naval architect               8684\n",
       "Surveyor, land/geomatics      8680\n",
       "Materials engineer            8270\n",
       "                              ... \n",
       "Information officer              8\n",
       "Veterinary surgeon               8\n",
       "Ship broker                      7\n",
       "Contracting civil engineer       7\n",
       "Warehouse manager                7\n",
       "Name: count, Length: 494, dtype: int64"
      ]
     },
     "execution_count": 8,
     "metadata": {},
     "output_type": "execute_result"
    }
   ],
   "source": [
    "df['job'].value_counts()"
   ]
  },
  {
   "cell_type": "code",
   "execution_count": 9,
   "id": "664413a9",
   "metadata": {},
   "outputs": [],
   "source": [
    "df['trans_date_trans_time'] = pd.to_datetime(df[\"trans_date_trans_time\"])"
   ]
  },
  {
   "cell_type": "code",
   "execution_count": 10,
   "id": "64a863d9",
   "metadata": {},
   "outputs": [],
   "source": [
    "df = df.astype({\n",
    "    'cc_num': 'category', \n",
    "    'merchant': 'str', \n",
    "    'category': 'category',\n",
    "    'first': 'str', \n",
    "    'last': 'str', \n",
    "    'gender': 'category', \n",
    "    'street': 'str', \n",
    "    'city': 'category', \n",
    "    'state': 'category', \n",
    "    'zip': 'category',\n",
    "    'job': 'category', \n",
    "    'dob': 'datetime64[ns]', \n",
    "})\n",
    "\n",
    "df['merch_zipcode'] = df['merch_zipcode'].astype('Int64').astype(str)"
   ]
  },
  {
   "cell_type": "code",
   "execution_count": 16,
   "id": "c39a8b74",
   "metadata": {},
   "outputs": [
    {
     "data": {
      "application/vnd.microsoft.datawrangler.viewer.v0+json": {
       "columns": [
        {
         "name": "index",
         "rawType": "int64",
         "type": "integer"
        },
        {
         "name": "trans_date_trans_time",
         "rawType": "datetime64[ns]",
         "type": "datetime"
        },
        {
         "name": "cc_num",
         "rawType": "category",
         "type": "unknown"
        },
        {
         "name": "merchant",
         "rawType": "object",
         "type": "string"
        },
        {
         "name": "category",
         "rawType": "category",
         "type": "unknown"
        },
        {
         "name": "amt",
         "rawType": "float64",
         "type": "float"
        },
        {
         "name": "first",
         "rawType": "object",
         "type": "string"
        },
        {
         "name": "last",
         "rawType": "object",
         "type": "string"
        },
        {
         "name": "gender",
         "rawType": "category",
         "type": "unknown"
        },
        {
         "name": "street",
         "rawType": "object",
         "type": "string"
        },
        {
         "name": "city",
         "rawType": "category",
         "type": "unknown"
        },
        {
         "name": "state",
         "rawType": "category",
         "type": "unknown"
        },
        {
         "name": "zip",
         "rawType": "category",
         "type": "unknown"
        },
        {
         "name": "lat",
         "rawType": "float64",
         "type": "float"
        },
        {
         "name": "long",
         "rawType": "float64",
         "type": "float"
        },
        {
         "name": "city_pop",
         "rawType": "int64",
         "type": "integer"
        },
        {
         "name": "job",
         "rawType": "category",
         "type": "unknown"
        },
        {
         "name": "dob",
         "rawType": "datetime64[ns]",
         "type": "datetime"
        },
        {
         "name": "trans_num",
         "rawType": "object",
         "type": "string"
        },
        {
         "name": "unix_time",
         "rawType": "int64",
         "type": "integer"
        },
        {
         "name": "merch_lat",
         "rawType": "float64",
         "type": "float"
        },
        {
         "name": "merch_long",
         "rawType": "float64",
         "type": "float"
        },
        {
         "name": "is_fraud",
         "rawType": "int64",
         "type": "integer"
        },
        {
         "name": "merch_zipcode",
         "rawType": "object",
         "type": "string"
        }
       ],
       "conversionMethod": "pd.DataFrame",
       "ref": "73f75a81-8849-40ee-afbe-d825f3be96b5",
       "rows": [
        [
         "0",
         "2019-01-01 00:00:18",
         "2703186189652095",
         "fraud_Rippin, Kub and Mann",
         "misc_net",
         "4.97",
         "Jennifer",
         "Banks",
         "F",
         "561 Perry Cove",
         "Moravian Falls",
         "NC",
         "28654",
         "36.0788",
         "-81.1781",
         "3495",
         "Psychologist, counselling",
         "1988-03-09 00:00:00",
         "0b242abb623afc578575680df30655b9",
         "1325376018",
         "36.011293",
         "-82.048315",
         "0",
         "28705"
        ],
        [
         "1",
         "2019-01-01 00:00:44",
         "630423337322",
         "fraud_Heller, Gutmann and Zieme",
         "grocery_pos",
         "107.23",
         "Stephanie",
         "Gill",
         "F",
         "43039 Riley Greens Suite 393",
         "Orient",
         "WA",
         "99160",
         "48.8878",
         "-118.2105",
         "149",
         "Special educational needs teacher",
         "1978-06-21 00:00:00",
         "1f76529f8574734946361c461b024d99",
         "1325376044",
         "49.159047",
         "-118.186462",
         "0",
         "<NA>"
        ],
        [
         "2",
         "2019-01-01 00:00:51",
         "38859492057661",
         "fraud_Lind-Buckridge",
         "entertainment",
         "220.11",
         "Edward",
         "Sanchez",
         "M",
         "594 White Dale Suite 530",
         "Malad City",
         "ID",
         "83252",
         "42.1808",
         "-112.262",
         "4154",
         "Nature conservation officer",
         "1962-01-19 00:00:00",
         "a1a22d70485983eac12b5b88dad1cf95",
         "1325376051",
         "43.150704",
         "-112.154481",
         "0",
         "83236"
        ],
        [
         "3",
         "2019-01-01 00:01:16",
         "3534093764340240",
         "fraud_Kutch, Hermiston and Farrell",
         "gas_transport",
         "45.0",
         "Jeremy",
         "White",
         "M",
         "9443 Cynthia Court Apt. 038",
         "Boulder",
         "MT",
         "59632",
         "46.2306",
         "-112.1138",
         "1939",
         "Patent attorney",
         "1967-01-12 00:00:00",
         "6b849c168bdad6f867558c3793159a81",
         "1325376076",
         "47.034331",
         "-112.561071",
         "0",
         "<NA>"
        ],
        [
         "4",
         "2019-01-01 00:03:06",
         "375534208663984",
         "fraud_Keeling-Crist",
         "misc_pos",
         "41.96",
         "Tyler",
         "Garcia",
         "M",
         "408 Bradley Rest",
         "Doe Hill",
         "VA",
         "24433",
         "38.4207",
         "-79.4629",
         "99",
         "Dance movement psychotherapist",
         "1986-03-28 00:00:00",
         "a41d7549acf90789359a9aa5346dcb46",
         "1325376186",
         "38.674999",
         "-78.632459",
         "0",
         "22844"
        ],
        [
         "5",
         "2019-01-01 00:04:08",
         "4767265376804500",
         "fraud_Stroman, Hudson and Erdman",
         "gas_transport",
         "94.63",
         "Jennifer",
         "Conner",
         "F",
         "4655 David Island",
         "Dublin",
         "PA",
         "18917",
         "40.375",
         "-75.2045",
         "2158",
         "Transport planner",
         "1961-06-19 00:00:00",
         "189a841a0a8ba03058526bcfe566aab5",
         "1325376248",
         "40.653382",
         "-76.15266700000001",
         "0",
         "17972"
        ],
        [
         "6",
         "2019-01-01 00:04:42",
         "30074693890476",
         "fraud_Rowe-Vandervort",
         "grocery_net",
         "44.54",
         "Kelsey",
         "Richards",
         "F",
         "889 Sarah Station Suite 624",
         "Holcomb",
         "KS",
         "67851",
         "37.9931",
         "-100.9893",
         "2691",
         "Arboriculturist",
         "1993-08-16 00:00:00",
         "83ec1cc84142af6e2acf10c44949e720",
         "1325376282",
         "37.162705",
         "-100.15337",
         "0",
         "<NA>"
        ],
        [
         "7",
         "2019-01-01 00:05:08",
         "6011360759745864",
         "fraud_Corwin-Collins",
         "gas_transport",
         "71.65",
         "Steven",
         "Williams",
         "M",
         "231 Flores Pass Suite 720",
         "Edinburg",
         "VA",
         "22824",
         "38.8432",
         "-78.6003",
         "6018",
         "Designer, multimedia",
         "1947-08-21 00:00:00",
         "6d294ed2cc447d2c71c7171a3d54967c",
         "1325376308",
         "38.948089",
         "-78.540296",
         "0",
         "22644"
        ],
        [
         "8",
         "2019-01-01 00:05:18",
         "4922710831011201",
         "fraud_Herzog Ltd",
         "misc_pos",
         "4.27",
         "Heather",
         "Chase",
         "F",
         "6888 Hicks Stream Suite 954",
         "Manor",
         "PA",
         "15665",
         "40.3359",
         "-79.6607",
         "1472",
         "Public affairs consultant",
         "1941-03-07 00:00:00",
         "fc28024ce480f8ef21a32d64c93a29f5",
         "1325376318",
         "40.351813",
         "-79.958146",
         "0",
         "15236"
        ],
        [
         "9",
         "2019-01-01 00:06:01",
         "2720830304681674",
         "fraud_Schoen, Kuphal and Nitzsche",
         "grocery_pos",
         "198.39",
         "Melissa",
         "Aguilar",
         "F",
         "21326 Taylor Squares Suite 708",
         "Clarksville",
         "TN",
         "37040",
         "36.522",
         "-87.34899999999999",
         "151785",
         "Pathologist",
         "1974-03-28 00:00:00",
         "3b9014ea8fb80bd65de0b1463b00b00e",
         "1325376361",
         "37.179198",
         "-87.485381",
         "0",
         "42442"
        ],
        [
         "10",
         "2019-01-01 00:06:23",
         "4642894980163",
         "fraud_Rutherford-Mertz",
         "grocery_pos",
         "24.74",
         "Eddie",
         "Mendez",
         "M",
         "1831 Faith View Suite 653",
         "Clarinda",
         "IA",
         "51632",
         "40.7491",
         "-95.038",
         "7297",
         "IT trainer",
         "1990-07-13 00:00:00",
         "d71c95ab6b7356dd74389d41df429c87",
         "1325376383",
         "40.275891",
         "-96.011548",
         "0",
         "68348"
        ],
        [
         "11",
         "2019-01-01 00:06:53",
         "377234009633447",
         "fraud_Kerluke-Abshire",
         "shopping_net",
         "7.77",
         "Theresa",
         "Blackwell",
         "F",
         "43576 Kristina Islands",
         "Shenandoah Junction",
         "WV",
         "25442",
         "39.3716",
         "-77.8229",
         "1925",
         "Systems developer",
         "1966-02-14 00:00:00",
         "3c74776e558f1499a7824b556e474b1d",
         "1325376413",
         "40.103866",
         "-78.624459",
         "0",
         "15554"
        ],
        [
         "12",
         "2019-01-01 00:06:56",
         "180042946491150",
         "fraud_Lockman Ltd",
         "grocery_pos",
         "71.22",
         "Charles",
         "Robles",
         "M",
         "3337 Lisa Divide",
         "Saint Petersburg",
         "FL",
         "33710",
         "27.7898",
         "-82.7243",
         "341043",
         "Engineer, land",
         "1989-02-28 00:00:00",
         "c1d9a7ddb1e34639fe82758de97f4abf",
         "1325376416",
         "27.630593",
         "-82.308891",
         "0",
         "33598"
        ],
        [
         "13",
         "2019-01-01 00:07:27",
         "5559857416065248",
         "fraud_Kiehn Inc",
         "grocery_pos",
         "96.29",
         "Jack",
         "Hill",
         "M",
         "5916 Susan Bridge Apt. 939",
         "Grenada",
         "CA",
         "96038",
         "41.6125",
         "-122.5258",
         "589",
         "Systems analyst",
         "1945-12-21 00:00:00",
         "413636e759663f264aae1819a4d4f231",
         "1325376447",
         "41.65752",
         "-122.230347",
         "0",
         "<NA>"
        ],
        [
         "14",
         "2019-01-01 00:09:03",
         "3514865930894695",
         "fraud_Beier-Hyatt",
         "shopping_pos",
         "7.77",
         "Christopher",
         "Castaneda",
         "M",
         "1632 Cohen Drive Suite 639",
         "High Rolls Mountain Park",
         "NM",
         "88325",
         "32.9396",
         "-105.8189",
         "899",
         "Naval architect",
         "1967-08-30 00:00:00",
         "8a6293af5ed278dea14448ded2685fea",
         "1325376543",
         "32.863258",
         "-106.520205",
         "0",
         "<NA>"
        ],
        [
         "15",
         "2019-01-01 00:09:20",
         "6011999606625827",
         "fraud_Schmidt and Sons",
         "shopping_net",
         "3.26",
         "Ronald",
         "Carson",
         "M",
         "870 Rocha Drive",
         "Harrington Park",
         "NJ",
         "7640",
         "40.9918",
         "-73.98",
         "4664",
         "Radiographer, diagnostic",
         "1965-06-30 00:00:00",
         "baae0b096835c975857eea7e28dde3dc",
         "1325376560",
         "41.831174",
         "-74.335559",
         "0",
         "12446"
        ],
        [
         "16",
         "2019-01-01 00:10:49",
         "6011860238257910",
         "fraud_Lebsack and Sons",
         "misc_net",
         "327.0",
         "Lisa",
         "Mendez",
         "F",
         "44259 Beth Station Suite 215",
         "Lahoma",
         "OK",
         "73754",
         "36.385",
         "-98.0727",
         "1078",
         "Programme researcher, broadcasting/film/video",
         "1952-07-06 00:00:00",
         "991c04803b4d4eeab30d6245a872e3d3",
         "1325376649",
         "36.384092",
         "-99.048472",
         "0",
         "73852"
        ],
        [
         "17",
         "2019-01-01 00:10:58",
         "3565423334076143",
         "fraud_Mayert Group",
         "shopping_pos",
         "341.67",
         "Nathan",
         "Thomas",
         "M",
         "4923 Campbell Pines Suite 717",
         "Carlisle",
         "IN",
         "47838",
         "38.9763",
         "-87.3667",
         "4081",
         "Energy engineer",
         "1938-03-15 00:00:00",
         "f12cf52be2175703db789a4644c32f25",
         "1325376658",
         "38.674491",
         "-88.305767",
         "0",
         "62824"
        ],
        [
         "18",
         "2019-01-01 00:11:14",
         "2348245054386329",
         "fraud_Konopelski, Schneider and Hartmann",
         "food_dining",
         "63.07",
         "Justin",
         "Gay",
         "M",
         "268 Hayes Rue Suite 811",
         "Harborcreek",
         "PA",
         "16421",
         "42.1767",
         "-79.9416",
         "2518",
         "Event organiser",
         "1946-02-02 00:00:00",
         "8500f3d459047eac8443307b1e8296e5",
         "1325376674",
         "41.430274",
         "-79.492553",
         "0",
         "16364"
        ],
        [
         "19",
         "2019-01-01 00:12:34",
         "4956828990005111019",
         "fraud_Schultz, Simonis and Little",
         "grocery_pos",
         "44.71",
         "Kenneth",
         "Robinson",
         "M",
         "269 Sanchez Rapids",
         "Elizabeth",
         "NJ",
         "7208",
         "40.6747",
         "-74.2239",
         "124967",
         "Operational researcher",
         "1980-12-21 00:00:00",
         "09eff9c806365e2a6be12c1bbab3d70e",
         "1325376754",
         "40.079588",
         "-74.84808699999999",
         "0",
         "8016"
        ],
        [
         "20",
         "2019-01-01 00:13:08",
         "4469777115158234880",
         "fraud_Bauch-Raynor",
         "grocery_pos",
         "57.34",
         "Gregory",
         "Graham",
         "M",
         "4005 Dana Glens",
         "Methuen",
         "MA",
         "1844",
         "42.728",
         "-71.181",
         "47249",
         "Market researcher",
         "1980-11-22 00:00:00",
         "139a1bee15be607d79fe173bfcb2502a",
         "1325376788",
         "42.26876",
         "-71.217297",
         "0",
         "2492"
        ],
        [
         "21",
         "2019-01-01 00:14:37",
         "2305336922781618",
         "fraud_Harris Inc",
         "gas_transport",
         "50.79",
         "Jeffrey",
         "Rice",
         "M",
         "21447 Powell Circle",
         "Moulton",
         "IA",
         "52572",
         "40.6866",
         "-92.6833",
         "1132",
         "Probation officer",
         "1961-02-14 00:00:00",
         "b9c4615bec3561c8e83b0c1d6c7028e2",
         "1325376877",
         "40.18893",
         "-91.955115",
         "0",
         "63446"
        ],
        [
         "22",
         "2019-01-01 00:17:16",
         "180048185037117",
         "fraud_Kling-Grant",
         "grocery_net",
         "46.28",
         "Mary",
         "Wall",
         "F",
         "2481 Mills Lock",
         "Plainfield",
         "NJ",
         "7060",
         "40.6152",
         "-74.415",
         "71485",
         "Leisure centre manager",
         "1974-07-19 00:00:00",
         "19e23c6a300c774354417befe4f31f8c",
         "1325377036",
         "40.021888",
         "-74.228188",
         "0",
         "8755"
        ],
        [
         "23",
         "2019-01-01 00:17:40",
         "630441765090",
         "fraud_Pacocha-Bauch",
         "shopping_pos",
         "9.55",
         "Susan",
         "Washington",
         "F",
         "759 Erin Mount Suite 956",
         "May",
         "TX",
         "76857",
         "31.9571",
         "-98.9656",
         "1791",
         "Corporate investment banker",
         "1965-07-26 00:00:00",
         "c4b4daebab8be54cadde4b941244ca53",
         "1325377060",
         "31.62635",
         "-98.610225",
         "0",
         "76870"
        ],
        [
         "24",
         "2019-01-01 00:18:06",
         "4428780983793657331",
         "fraud_Lesch Ltd",
         "shopping_pos",
         "22.95",
         "Richard",
         "Waters",
         "M",
         "7683 Natasha Way Apt. 945",
         "Waukesha",
         "WI",
         "53186",
         "42.9993",
         "-88.2196",
         "95015",
         "Therapist, occupational",
         "1946-01-02 00:00:00",
         "d2432bfeabf142dc1bae1d426e32aecc",
         "1325377086",
         "43.375041",
         "-89.055065",
         "0",
         "53932"
        ],
        [
         "25",
         "2019-01-01 00:18:07",
         "343464013864032",
         "fraud_Kunde-Sanford",
         "misc_net",
         "2.55",
         "Jodi",
         "Foster",
         "F",
         "551 Zachary Freeway",
         "Bailey",
         "NC",
         "27807",
         "35.8072",
         "-78.0892",
         "6629",
         "Call centre manager",
         "1962-08-13 00:00:00",
         "abe0676c18f34fa305b113fa762e29b5",
         "1325377087",
         "36.74987",
         "-78.67787",
         "0",
         "23964"
        ],
        [
         "26",
         "2019-01-01 00:20:15",
         "374930071163758",
         "fraud_Deckow-O'Conner",
         "grocery_pos",
         "64.09",
         "Daniel",
         "Escobar",
         "M",
         "61390 Hayes Port",
         "Romulus",
         "MI",
         "48174",
         "42.2203",
         "-83.3583",
         "31515",
         "Police officer",
         "1971-11-05 00:00:00",
         "6f363661ba6b55889e488dd178f2a0af",
         "1325377215",
         "42.360426",
         "-83.552316",
         "0",
         "48168"
        ],
        [
         "27",
         "2019-01-01 00:21:32",
         "4334230547694630",
         "fraud_Bruen-Yost",
         "misc_pos",
         "6.85",
         "Scott",
         "Martin",
         "M",
         "7483 Navarro Flats",
         "Freedom",
         "WY",
         "83120",
         "43.0172",
         "-111.0292",
         "471",
         "Education officer, museum",
         "1967-08-02 00:00:00",
         "f3c43d336e92a44fc2fb67058d5949e3",
         "1325377292",
         "43.753735",
         "-111.454923",
         "0",
         "83436"
        ],
        [
         "28",
         "2019-01-01 00:22:06",
         "4225990116481262579",
         "fraud_Kunze Inc",
         "grocery_pos",
         "90.22",
         "Brian",
         "Simpson",
         "M",
         "2711 Duran Pines",
         "Honokaa",
         "HI",
         "96727",
         "20.0827",
         "-155.488",
         "4878",
         "Physiotherapist",
         "1966-12-03 00:00:00",
         "95826e3caa9e0b905294c6dae985aec1",
         "1325377326",
         "19.560013",
         "-156.045889",
         "0",
         "96740"
        ],
        [
         "29",
         "2019-01-01 00:22:18",
         "4260059589824237",
         "fraud_Nitzsche, Kessler and Wolff",
         "shopping_pos",
         "4.02",
         "Aaron",
         "Rogers",
         "M",
         "969 Huerta Path Apt. 270",
         "Valentine",
         "NE",
         "69201",
         "42.8062",
         "-100.6215",
         "4005",
         "Network engineer",
         "1945-03-15 00:00:00",
         "20490f3f0966ce74b4aaba8dc2c4ed52",
         "1325377338",
         "42.47559",
         "-101.265846",
         "0",
         "<NA>"
        ],
        [
         "30",
         "2019-01-01 00:22:36",
         "180094608895855",
         "fraud_Kihn, Abernathy and Douglas",
         "shopping_net",
         "3.66",
         "Tammie",
         "Harper",
         "F",
         "57887 Gutierrez Harbor",
         "Westfir",
         "OR",
         "97492",
         "43.7575",
         "-122.481",
         "597",
         "Forensic psychologist",
         "1961-05-19 00:00:00",
         "870c92b288a974a2faf1f24b05c27e33",
         "1325377356",
         "44.278191",
         "-121.815161",
         "0",
         "<NA>"
        ],
        [
         "31",
         "2019-01-01 00:22:39",
         "4599735407877245080",
         "fraud_Heller, Gutmann and Zieme",
         "grocery_pos",
         "82.8",
         "Mary",
         "Myers",
         "F",
         "39787 Pamela Fall Suite 639",
         "Tiptonville",
         "TN",
         "38079",
         "36.3846",
         "-89.4649",
         "5577",
         "Geochemist",
         "1964-12-30 00:00:00",
         "cb598ec00d349dc95e7b3c18de5ae800",
         "1325377359",
         "36.294205",
         "-89.81128199999999",
         "0",
         "63879"
        ],
        [
         "32",
         "2019-01-01 00:22:44",
         "630412733309",
         "fraud_Torphy-Goyette",
         "shopping_pos",
         "66.21",
         "Heather",
         "Stanton",
         "F",
         "445 Jerry Lights Apt. 081",
         "Republic",
         "MI",
         "49879",
         "46.368",
         "-87.9938",
         "1038",
         "Armed forces training and education officer",
         "1964-04-22 00:00:00",
         "20f048d3907dbb9978e23bee7b7578ce",
         "1325377364",
         "46.412038",
         "-88.516663",
         "0",
         "49919"
        ],
        [
         "33",
         "2019-01-01 00:23:41",
         "2712209726293386",
         "fraud_Balistreri-Nader",
         "misc_pos",
         "25.58",
         "Jenna",
         "Brooks",
         "F",
         "50872 Alex Plain Suite 088",
         "Baton Rouge",
         "LA",
         "70808",
         "30.4066",
         "-91.1468",
         "378909",
         "Designer, furniture",
         "1977-02-22 00:00:00",
         "1654da2abfb9e79a5f99167fc9779558",
         "1325377421",
         "29.737426",
         "-90.853194",
         "0",
         "70395"
        ],
        [
         "34",
         "2019-01-01 00:23:58",
         "374125201044065",
         "fraud_Bahringer, Schoen and Corkery",
         "shopping_pos",
         "9.03",
         "Christopher",
         "Gilbert",
         "M",
         "20937 Reed Lakes Apt. 271",
         "Washington",
         "DC",
         "20012",
         "38.9757",
         "-77.0282",
         "601723",
         "Optician, dispensing",
         "1970-07-20 00:00:00",
         "c733711c521c41c578f4a964d8350df0",
         "1325377438",
         "38.880898",
         "-76.44111600000001",
         "0",
         "21037"
        ],
        [
         "35",
         "2019-01-01 00:25:46",
         "349612764943496",
         "fraud_Hudson-Ratke",
         "grocery_pos",
         "99.0",
         "Xavier",
         "Beltran",
         "M",
         "61107 Edwards Dam Apt. 463",
         "Big Creek",
         "KY",
         "40914",
         "37.1046",
         "-83.5706",
         "467",
         "Psychologist, forensic",
         "1984-06-04 00:00:00",
         "7e2f9596cb3a3595ece15611ee338e5c",
         "1325377546",
         "36.823545",
         "-83.90104000000001",
         "0",
         "40906"
        ],
        [
         "36",
         "2019-01-01 00:26:22",
         "3598215285024754",
         "fraud_Heidenreich PLC",
         "grocery_pos",
         "207.36",
         "Ashley",
         "Lopez",
         "F",
         "9333 Valentine Point",
         "Bellmore",
         "NY",
         "11710",
         "40.6729",
         "-73.5365",
         "34496",
         "Librarian, public",
         "1970-10-21 00:00:00",
         "f246ac27c09429ff1e385d4683c79c4d",
         "1325377582",
         "40.202538",
         "-73.859212",
         "0",
         "7720"
        ],
        [
         "37",
         "2019-01-01 00:27:45",
         "213141712584544",
         "fraud_Halvorson Group",
         "misc_pos",
         "181.35",
         "Margaret",
         "Curtis",
         "F",
         "742 Oneill Shore",
         "Florence",
         "MS",
         "39073",
         "32.153",
         "-90.1217",
         "19685",
         "Fine artist",
         "1984-12-24 00:00:00",
         "7bb25a43205191eb7344282b88fc54d3",
         "1325377665",
         "31.939812",
         "-90.726209",
         "0",
         "39086"
        ],
        [
         "38",
         "2019-01-01 00:27:56",
         "30561214688470",
         "fraud_Harber Inc",
         "gas_transport",
         "82.22",
         "Gina",
         "Morrison",
         "F",
         "41851 Victor Drives Suite 219",
         "Allentown",
         "PA",
         "18103",
         "40.5891",
         "-75.4645",
         "166081",
         "Scientist, research (maths)",
         "1998-10-01 00:00:00",
         "61bcb858dd5c8e2d0d46d02b4fa0bf8e",
         "1325377676",
         "40.586238",
         "-75.802249",
         "0",
         "19529"
        ],
        [
         "39",
         "2019-01-01 00:29:11",
         "4789911625179723",
         "fraud_Mosciski, Gislason and Mertz",
         "grocery_pos",
         "221.81",
         "Dorothy",
         "Zuniga",
         "F",
         "77321 Ford Via",
         "Moriches",
         "NY",
         "11955",
         "40.8095",
         "-72.8229",
         "3285",
         "Research officer, trade union",
         "1988-04-27 00:00:00",
         "a8394c3e555166ce2f90eee628bd9ade",
         "1325377751",
         "40.011959",
         "-72.594808",
         "0",
         "<NA>"
        ],
        [
         "40",
         "2019-01-01 00:30:49",
         "676372984911",
         "fraud_Christiansen, Goyette and Schamberger",
         "gas_transport",
         "53.6",
         "Vicki",
         "Mendoza",
         "F",
         "3645 Atkins Island Apt. 238",
         "Esbon",
         "KS",
         "66941",
         "39.7562",
         "-98.4462",
         "242",
         "Tourism officer",
         "1987-07-18 00:00:00",
         "f1566e9623814dd277dfa2a9bf83ea36",
         "1325377849",
         "40.332519",
         "-99.062962",
         "0",
         "68947"
        ],
        [
         "41",
         "2019-01-01 00:31:01",
         "30011465039817",
         "fraud_Howe Ltd",
         "misc_pos",
         "54.02",
         "Lisa",
         "Garcia",
         "F",
         "213 Gill Expressway",
         "Chatham",
         "NY",
         "12037",
         "42.3496",
         "-73.5873",
         "4015",
         "Human resources officer",
         "1971-10-14 00:00:00",
         "8d11abad6bc3501f9994f061e3a5b730",
         "1325377861",
         "42.041783",
         "-73.076424",
         "0",
         "6021"
        ],
        [
         "42",
         "2019-01-01 00:31:51",
         "4642255475285942",
         "fraud_Ledner-Pfannerstill",
         "gas_transport",
         "102.13",
         "Sabrina",
         "Johnson",
         "F",
         "320 Nicholson Orchard",
         "Thompson",
         "UT",
         "84540",
         "38.9999",
         "-109.615",
         "46",
         "Surveyor, minerals",
         "1987-04-23 00:00:00",
         "47238da5b40d126c8abea40a857c7809",
         "1325377911",
         "39.807313",
         "-109.348294",
         "0",
         "<NA>"
        ],
        [
         "43",
         "2019-01-01 00:32:15",
         "30074693890476",
         "fraud_Lockman Ltd",
         "grocery_pos",
         "212.75",
         "Kelsey",
         "Richards",
         "F",
         "889 Sarah Station Suite 624",
         "Holcomb",
         "KS",
         "67851",
         "37.9931",
         "-100.9893",
         "2691",
         "Arboriculturist",
         "1993-08-16 00:00:00",
         "d9dcde500bed2cad48ee41e44c362596",
         "1325377935",
         "38.862183",
         "-101.234087",
         "0",
         "<NA>"
        ],
        [
         "44",
         "2019-01-01 00:32:15",
         "180067784565096",
         "fraud_Koepp-Witting",
         "grocery_pos",
         "130.4",
         "Mary",
         "Juarez",
         "F",
         "35440 Ryan Islands",
         "North Prairie",
         "WI",
         "53153",
         "42.9385",
         "-88.395",
         "2328",
         "Applications developer",
         "1942-01-06 00:00:00",
         "14a6e29ac65424550ea7e7c9f551dbb8",
         "1325377935",
         "42.236269",
         "-88.397336",
         "0",
         "60014"
        ],
        [
         "45",
         "2019-01-01 00:32:47",
         "213126662687660",
         "fraud_Doyle Ltd",
         "grocery_pos",
         "91.16",
         "Christopher",
         "Luna",
         "M",
         "242 Brian Mountain",
         "Laredo",
         "TX",
         "78040",
         "27.5155",
         "-99.4986",
         "248858",
         "Video editor",
         "1971-01-28 00:00:00",
         "685bcca9eb5ce554134d7242d564ecc9",
         "1325377967",
         "27.588953000000004",
         "-99.816911",
         "0",
         "<NA>"
        ],
        [
         "46",
         "2019-01-01 00:33:51",
         "2266735643685262",
         "fraud_Schaefer, Maggio and Daugherty",
         "gas_transport",
         "55.78",
         "Carlos",
         "Chung",
         "M",
         "8957 Russell Key",
         "Grant",
         "AL",
         "35747",
         "34.4959",
         "-86.259",
         "5901",
         "Curator",
         "1972-07-25 00:00:00",
         "392529cae1f1f1647093732a8f319c50",
         "1325378031",
         "35.255978000000006",
         "-86.041872",
         "0",
         "37324"
        ],
        [
         "47",
         "2019-01-01 00:34:10",
         "3553629419254918",
         "fraud_Stracke-Lemke",
         "grocery_pos",
         "83.07",
         "Sharon",
         "Johnson",
         "F",
         "7202 Jeffrey Mills",
         "Conway",
         "WA",
         "98238",
         "48.34",
         "-122.3456",
         "85",
         "Research officer, political party",
         "1984-09-01 00:00:00",
         "9b7a0619dcc5c572dc134f2827ed5a6b",
         "1325378050",
         "48.682111",
         "-122.719904",
         "0",
         "98262"
        ],
        [
         "48",
         "2019-01-01 00:36:12",
         "3511058278399773",
         "fraud_Mosciski, Ziemann and Farrell",
         "shopping_net",
         "4.38",
         "Briana",
         "Santos",
         "F",
         "702 Tabitha Drive",
         "New Goshen",
         "IN",
         "47863",
         "39.5803",
         "-87.4616",
         "205",
         "Engineer, mining",
         "1960-01-06 00:00:00",
         "f1e1ad954f49955c37b45eb71b2d1642",
         "1325378172",
         "39.681736",
         "-88.323862",
         "0",
         "61910"
        ],
        [
         "49",
         "2019-01-01 00:36:58",
         "4110266553600176127",
         "fraud_Cartwright-Harris",
         "grocery_pos",
         "130.89",
         "Sandra",
         "Schwartz",
         "F",
         "3789 Mark Walks",
         "Sunflower",
         "MS",
         "38778",
         "33.5567",
         "-90.5451",
         "1686",
         "Education officer, community",
         "1986-11-06 00:00:00",
         "e02fd7d82af517718f83a3f05077d435",
         "1325378218",
         "33.595647",
         "-90.234118",
         "0",
         "38930"
        ]
       ],
       "shape": {
        "columns": 23,
        "rows": 1296675
       }
      },
      "text/html": [
       "<div>\n",
       "<style scoped>\n",
       "    .dataframe tbody tr th:only-of-type {\n",
       "        vertical-align: middle;\n",
       "    }\n",
       "\n",
       "    .dataframe tbody tr th {\n",
       "        vertical-align: top;\n",
       "    }\n",
       "\n",
       "    .dataframe thead th {\n",
       "        text-align: right;\n",
       "    }\n",
       "</style>\n",
       "<table border=\"1\" class=\"dataframe\">\n",
       "  <thead>\n",
       "    <tr style=\"text-align: right;\">\n",
       "      <th></th>\n",
       "      <th>trans_date_trans_time</th>\n",
       "      <th>cc_num</th>\n",
       "      <th>merchant</th>\n",
       "      <th>category</th>\n",
       "      <th>amt</th>\n",
       "      <th>first</th>\n",
       "      <th>last</th>\n",
       "      <th>gender</th>\n",
       "      <th>street</th>\n",
       "      <th>city</th>\n",
       "      <th>...</th>\n",
       "      <th>long</th>\n",
       "      <th>city_pop</th>\n",
       "      <th>job</th>\n",
       "      <th>dob</th>\n",
       "      <th>trans_num</th>\n",
       "      <th>unix_time</th>\n",
       "      <th>merch_lat</th>\n",
       "      <th>merch_long</th>\n",
       "      <th>is_fraud</th>\n",
       "      <th>merch_zipcode</th>\n",
       "    </tr>\n",
       "  </thead>\n",
       "  <tbody>\n",
       "    <tr>\n",
       "      <th>0</th>\n",
       "      <td>2019-01-01 00:00:18</td>\n",
       "      <td>2703186189652095</td>\n",
       "      <td>fraud_Rippin, Kub and Mann</td>\n",
       "      <td>misc_net</td>\n",
       "      <td>4.97</td>\n",
       "      <td>Jennifer</td>\n",
       "      <td>Banks</td>\n",
       "      <td>F</td>\n",
       "      <td>561 Perry Cove</td>\n",
       "      <td>Moravian Falls</td>\n",
       "      <td>...</td>\n",
       "      <td>-81.1781</td>\n",
       "      <td>3495</td>\n",
       "      <td>Psychologist, counselling</td>\n",
       "      <td>1988-03-09</td>\n",
       "      <td>0b242abb623afc578575680df30655b9</td>\n",
       "      <td>1325376018</td>\n",
       "      <td>36.011293</td>\n",
       "      <td>-82.048315</td>\n",
       "      <td>0</td>\n",
       "      <td>28705</td>\n",
       "    </tr>\n",
       "    <tr>\n",
       "      <th>1</th>\n",
       "      <td>2019-01-01 00:00:44</td>\n",
       "      <td>630423337322</td>\n",
       "      <td>fraud_Heller, Gutmann and Zieme</td>\n",
       "      <td>grocery_pos</td>\n",
       "      <td>107.23</td>\n",
       "      <td>Stephanie</td>\n",
       "      <td>Gill</td>\n",
       "      <td>F</td>\n",
       "      <td>43039 Riley Greens Suite 393</td>\n",
       "      <td>Orient</td>\n",
       "      <td>...</td>\n",
       "      <td>-118.2105</td>\n",
       "      <td>149</td>\n",
       "      <td>Special educational needs teacher</td>\n",
       "      <td>1978-06-21</td>\n",
       "      <td>1f76529f8574734946361c461b024d99</td>\n",
       "      <td>1325376044</td>\n",
       "      <td>49.159047</td>\n",
       "      <td>-118.186462</td>\n",
       "      <td>0</td>\n",
       "      <td>&lt;NA&gt;</td>\n",
       "    </tr>\n",
       "    <tr>\n",
       "      <th>2</th>\n",
       "      <td>2019-01-01 00:00:51</td>\n",
       "      <td>38859492057661</td>\n",
       "      <td>fraud_Lind-Buckridge</td>\n",
       "      <td>entertainment</td>\n",
       "      <td>220.11</td>\n",
       "      <td>Edward</td>\n",
       "      <td>Sanchez</td>\n",
       "      <td>M</td>\n",
       "      <td>594 White Dale Suite 530</td>\n",
       "      <td>Malad City</td>\n",
       "      <td>...</td>\n",
       "      <td>-112.2620</td>\n",
       "      <td>4154</td>\n",
       "      <td>Nature conservation officer</td>\n",
       "      <td>1962-01-19</td>\n",
       "      <td>a1a22d70485983eac12b5b88dad1cf95</td>\n",
       "      <td>1325376051</td>\n",
       "      <td>43.150704</td>\n",
       "      <td>-112.154481</td>\n",
       "      <td>0</td>\n",
       "      <td>83236</td>\n",
       "    </tr>\n",
       "    <tr>\n",
       "      <th>3</th>\n",
       "      <td>2019-01-01 00:01:16</td>\n",
       "      <td>3534093764340240</td>\n",
       "      <td>fraud_Kutch, Hermiston and Farrell</td>\n",
       "      <td>gas_transport</td>\n",
       "      <td>45.00</td>\n",
       "      <td>Jeremy</td>\n",
       "      <td>White</td>\n",
       "      <td>M</td>\n",
       "      <td>9443 Cynthia Court Apt. 038</td>\n",
       "      <td>Boulder</td>\n",
       "      <td>...</td>\n",
       "      <td>-112.1138</td>\n",
       "      <td>1939</td>\n",
       "      <td>Patent attorney</td>\n",
       "      <td>1967-01-12</td>\n",
       "      <td>6b849c168bdad6f867558c3793159a81</td>\n",
       "      <td>1325376076</td>\n",
       "      <td>47.034331</td>\n",
       "      <td>-112.561071</td>\n",
       "      <td>0</td>\n",
       "      <td>&lt;NA&gt;</td>\n",
       "    </tr>\n",
       "    <tr>\n",
       "      <th>4</th>\n",
       "      <td>2019-01-01 00:03:06</td>\n",
       "      <td>375534208663984</td>\n",
       "      <td>fraud_Keeling-Crist</td>\n",
       "      <td>misc_pos</td>\n",
       "      <td>41.96</td>\n",
       "      <td>Tyler</td>\n",
       "      <td>Garcia</td>\n",
       "      <td>M</td>\n",
       "      <td>408 Bradley Rest</td>\n",
       "      <td>Doe Hill</td>\n",
       "      <td>...</td>\n",
       "      <td>-79.4629</td>\n",
       "      <td>99</td>\n",
       "      <td>Dance movement psychotherapist</td>\n",
       "      <td>1986-03-28</td>\n",
       "      <td>a41d7549acf90789359a9aa5346dcb46</td>\n",
       "      <td>1325376186</td>\n",
       "      <td>38.674999</td>\n",
       "      <td>-78.632459</td>\n",
       "      <td>0</td>\n",
       "      <td>22844</td>\n",
       "    </tr>\n",
       "    <tr>\n",
       "      <th>...</th>\n",
       "      <td>...</td>\n",
       "      <td>...</td>\n",
       "      <td>...</td>\n",
       "      <td>...</td>\n",
       "      <td>...</td>\n",
       "      <td>...</td>\n",
       "      <td>...</td>\n",
       "      <td>...</td>\n",
       "      <td>...</td>\n",
       "      <td>...</td>\n",
       "      <td>...</td>\n",
       "      <td>...</td>\n",
       "      <td>...</td>\n",
       "      <td>...</td>\n",
       "      <td>...</td>\n",
       "      <td>...</td>\n",
       "      <td>...</td>\n",
       "      <td>...</td>\n",
       "      <td>...</td>\n",
       "      <td>...</td>\n",
       "      <td>...</td>\n",
       "    </tr>\n",
       "    <tr>\n",
       "      <th>1296670</th>\n",
       "      <td>2020-06-21 12:12:08</td>\n",
       "      <td>30263540414123</td>\n",
       "      <td>fraud_Reichel Inc</td>\n",
       "      <td>entertainment</td>\n",
       "      <td>15.56</td>\n",
       "      <td>Erik</td>\n",
       "      <td>Patterson</td>\n",
       "      <td>M</td>\n",
       "      <td>162 Jessica Row Apt. 072</td>\n",
       "      <td>Hatch</td>\n",
       "      <td>...</td>\n",
       "      <td>-112.4777</td>\n",
       "      <td>258</td>\n",
       "      <td>Geoscientist</td>\n",
       "      <td>1961-11-24</td>\n",
       "      <td>440b587732da4dc1a6395aba5fb41669</td>\n",
       "      <td>1371816728</td>\n",
       "      <td>36.841266</td>\n",
       "      <td>-111.690765</td>\n",
       "      <td>0</td>\n",
       "      <td>&lt;NA&gt;</td>\n",
       "    </tr>\n",
       "    <tr>\n",
       "      <th>1296671</th>\n",
       "      <td>2020-06-21 12:12:19</td>\n",
       "      <td>6011149206456997</td>\n",
       "      <td>fraud_Abernathy and Sons</td>\n",
       "      <td>food_dining</td>\n",
       "      <td>51.70</td>\n",
       "      <td>Jeffrey</td>\n",
       "      <td>White</td>\n",
       "      <td>M</td>\n",
       "      <td>8617 Holmes Terrace Suite 651</td>\n",
       "      <td>Tuscarora</td>\n",
       "      <td>...</td>\n",
       "      <td>-77.5101</td>\n",
       "      <td>100</td>\n",
       "      <td>Production assistant, television</td>\n",
       "      <td>1979-12-11</td>\n",
       "      <td>278000d2e0d2277d1de2f890067dcc0a</td>\n",
       "      <td>1371816739</td>\n",
       "      <td>38.906881</td>\n",
       "      <td>-78.246528</td>\n",
       "      <td>0</td>\n",
       "      <td>22630</td>\n",
       "    </tr>\n",
       "    <tr>\n",
       "      <th>1296672</th>\n",
       "      <td>2020-06-21 12:12:32</td>\n",
       "      <td>3514865930894695</td>\n",
       "      <td>fraud_Stiedemann Ltd</td>\n",
       "      <td>food_dining</td>\n",
       "      <td>105.93</td>\n",
       "      <td>Christopher</td>\n",
       "      <td>Castaneda</td>\n",
       "      <td>M</td>\n",
       "      <td>1632 Cohen Drive Suite 639</td>\n",
       "      <td>High Rolls Mountain Park</td>\n",
       "      <td>...</td>\n",
       "      <td>-105.8189</td>\n",
       "      <td>899</td>\n",
       "      <td>Naval architect</td>\n",
       "      <td>1967-08-30</td>\n",
       "      <td>483f52fe67fabef353d552c1e662974c</td>\n",
       "      <td>1371816752</td>\n",
       "      <td>33.619513</td>\n",
       "      <td>-105.130529</td>\n",
       "      <td>0</td>\n",
       "      <td>88351</td>\n",
       "    </tr>\n",
       "    <tr>\n",
       "      <th>1296673</th>\n",
       "      <td>2020-06-21 12:13:36</td>\n",
       "      <td>2720012583106919</td>\n",
       "      <td>fraud_Reinger, Weissnat and Strosin</td>\n",
       "      <td>food_dining</td>\n",
       "      <td>74.90</td>\n",
       "      <td>Joseph</td>\n",
       "      <td>Murray</td>\n",
       "      <td>M</td>\n",
       "      <td>42933 Ryan Underpass</td>\n",
       "      <td>Manderson</td>\n",
       "      <td>...</td>\n",
       "      <td>-102.5411</td>\n",
       "      <td>1126</td>\n",
       "      <td>Volunteer coordinator</td>\n",
       "      <td>1980-08-18</td>\n",
       "      <td>d667cdcbadaaed3da3f4020e83591c83</td>\n",
       "      <td>1371816816</td>\n",
       "      <td>42.788940</td>\n",
       "      <td>-103.241160</td>\n",
       "      <td>0</td>\n",
       "      <td>69367</td>\n",
       "    </tr>\n",
       "    <tr>\n",
       "      <th>1296674</th>\n",
       "      <td>2020-06-21 12:13:37</td>\n",
       "      <td>4292902571056973207</td>\n",
       "      <td>fraud_Langosh, Wintheiser and Hyatt</td>\n",
       "      <td>food_dining</td>\n",
       "      <td>4.30</td>\n",
       "      <td>Jeffrey</td>\n",
       "      <td>Smith</td>\n",
       "      <td>M</td>\n",
       "      <td>135 Joseph Mountains</td>\n",
       "      <td>Sula</td>\n",
       "      <td>...</td>\n",
       "      <td>-113.8748</td>\n",
       "      <td>218</td>\n",
       "      <td>Therapist, horticultural</td>\n",
       "      <td>1995-08-16</td>\n",
       "      <td>8f7c8e4ab7f25875d753b422917c98c9</td>\n",
       "      <td>1371816817</td>\n",
       "      <td>46.565983</td>\n",
       "      <td>-114.186110</td>\n",
       "      <td>0</td>\n",
       "      <td>59870</td>\n",
       "    </tr>\n",
       "  </tbody>\n",
       "</table>\n",
       "<p>1296675 rows × 23 columns</p>\n",
       "</div>"
      ],
      "text/plain": [
       "        trans_date_trans_time               cc_num   \n",
       "0         2019-01-01 00:00:18     2703186189652095  \\\n",
       "1         2019-01-01 00:00:44         630423337322   \n",
       "2         2019-01-01 00:00:51       38859492057661   \n",
       "3         2019-01-01 00:01:16     3534093764340240   \n",
       "4         2019-01-01 00:03:06      375534208663984   \n",
       "...                       ...                  ...   \n",
       "1296670   2020-06-21 12:12:08       30263540414123   \n",
       "1296671   2020-06-21 12:12:19     6011149206456997   \n",
       "1296672   2020-06-21 12:12:32     3514865930894695   \n",
       "1296673   2020-06-21 12:13:36     2720012583106919   \n",
       "1296674   2020-06-21 12:13:37  4292902571056973207   \n",
       "\n",
       "                                    merchant       category     amt   \n",
       "0                 fraud_Rippin, Kub and Mann       misc_net    4.97  \\\n",
       "1            fraud_Heller, Gutmann and Zieme    grocery_pos  107.23   \n",
       "2                       fraud_Lind-Buckridge  entertainment  220.11   \n",
       "3         fraud_Kutch, Hermiston and Farrell  gas_transport   45.00   \n",
       "4                        fraud_Keeling-Crist       misc_pos   41.96   \n",
       "...                                      ...            ...     ...   \n",
       "1296670                    fraud_Reichel Inc  entertainment   15.56   \n",
       "1296671             fraud_Abernathy and Sons    food_dining   51.70   \n",
       "1296672                 fraud_Stiedemann Ltd    food_dining  105.93   \n",
       "1296673  fraud_Reinger, Weissnat and Strosin    food_dining   74.90   \n",
       "1296674  fraud_Langosh, Wintheiser and Hyatt    food_dining    4.30   \n",
       "\n",
       "               first       last gender                         street   \n",
       "0           Jennifer      Banks      F                 561 Perry Cove  \\\n",
       "1          Stephanie       Gill      F   43039 Riley Greens Suite 393   \n",
       "2             Edward    Sanchez      M       594 White Dale Suite 530   \n",
       "3             Jeremy      White      M    9443 Cynthia Court Apt. 038   \n",
       "4              Tyler     Garcia      M               408 Bradley Rest   \n",
       "...              ...        ...    ...                            ...   \n",
       "1296670         Erik  Patterson      M       162 Jessica Row Apt. 072   \n",
       "1296671      Jeffrey      White      M  8617 Holmes Terrace Suite 651   \n",
       "1296672  Christopher  Castaneda      M     1632 Cohen Drive Suite 639   \n",
       "1296673       Joseph     Murray      M           42933 Ryan Underpass   \n",
       "1296674      Jeffrey      Smith      M           135 Joseph Mountains   \n",
       "\n",
       "                             city  ...      long city_pop   \n",
       "0                  Moravian Falls  ...  -81.1781     3495  \\\n",
       "1                          Orient  ... -118.2105      149   \n",
       "2                      Malad City  ... -112.2620     4154   \n",
       "3                         Boulder  ... -112.1138     1939   \n",
       "4                        Doe Hill  ...  -79.4629       99   \n",
       "...                           ...  ...       ...      ...   \n",
       "1296670                     Hatch  ... -112.4777      258   \n",
       "1296671                 Tuscarora  ...  -77.5101      100   \n",
       "1296672  High Rolls Mountain Park  ... -105.8189      899   \n",
       "1296673                 Manderson  ... -102.5411     1126   \n",
       "1296674                      Sula  ... -113.8748      218   \n",
       "\n",
       "                                       job        dob   \n",
       "0                Psychologist, counselling 1988-03-09  \\\n",
       "1        Special educational needs teacher 1978-06-21   \n",
       "2              Nature conservation officer 1962-01-19   \n",
       "3                          Patent attorney 1967-01-12   \n",
       "4           Dance movement psychotherapist 1986-03-28   \n",
       "...                                    ...        ...   \n",
       "1296670                       Geoscientist 1961-11-24   \n",
       "1296671   Production assistant, television 1979-12-11   \n",
       "1296672                    Naval architect 1967-08-30   \n",
       "1296673              Volunteer coordinator 1980-08-18   \n",
       "1296674           Therapist, horticultural 1995-08-16   \n",
       "\n",
       "                                trans_num   unix_time  merch_lat  merch_long   \n",
       "0        0b242abb623afc578575680df30655b9  1325376018  36.011293  -82.048315  \\\n",
       "1        1f76529f8574734946361c461b024d99  1325376044  49.159047 -118.186462   \n",
       "2        a1a22d70485983eac12b5b88dad1cf95  1325376051  43.150704 -112.154481   \n",
       "3        6b849c168bdad6f867558c3793159a81  1325376076  47.034331 -112.561071   \n",
       "4        a41d7549acf90789359a9aa5346dcb46  1325376186  38.674999  -78.632459   \n",
       "...                                   ...         ...        ...         ...   \n",
       "1296670  440b587732da4dc1a6395aba5fb41669  1371816728  36.841266 -111.690765   \n",
       "1296671  278000d2e0d2277d1de2f890067dcc0a  1371816739  38.906881  -78.246528   \n",
       "1296672  483f52fe67fabef353d552c1e662974c  1371816752  33.619513 -105.130529   \n",
       "1296673  d667cdcbadaaed3da3f4020e83591c83  1371816816  42.788940 -103.241160   \n",
       "1296674  8f7c8e4ab7f25875d753b422917c98c9  1371816817  46.565983 -114.186110   \n",
       "\n",
       "         is_fraud  merch_zipcode  \n",
       "0               0          28705  \n",
       "1               0           <NA>  \n",
       "2               0          83236  \n",
       "3               0           <NA>  \n",
       "4               0          22844  \n",
       "...           ...            ...  \n",
       "1296670         0           <NA>  \n",
       "1296671         0          22630  \n",
       "1296672         0          88351  \n",
       "1296673         0          69367  \n",
       "1296674         0          59870  \n",
       "\n",
       "[1296675 rows x 23 columns]"
      ]
     },
     "execution_count": 16,
     "metadata": {},
     "output_type": "execute_result"
    }
   ],
   "source": [
    "df"
   ]
  },
  {
   "cell_type": "markdown",
   "id": "af3445c6",
   "metadata": {},
   "source": [
    "### ***Fixing Columns***"
   ]
  },
  {
   "cell_type": "code",
   "execution_count": 18,
   "id": "c989f99b",
   "metadata": {},
   "outputs": [],
   "source": [
    "df[\"dob\"] = df[\"dob\"].dt.date"
   ]
  },
  {
   "cell_type": "code",
   "execution_count": 20,
   "id": "61f62164",
   "metadata": {},
   "outputs": [],
   "source": [
    "df[\"trans_date\"] = df[\"trans_date_trans_time\"].dt.date\n",
    "df[\"trans_time\"] = df[\"trans_date_trans_time\"].dt.time"
   ]
  },
  {
   "cell_type": "markdown",
   "id": "1324aad1",
   "metadata": {},
   "source": [
    "> Checking for any ```NULL``` values"
   ]
  },
  {
   "cell_type": "code",
   "execution_count": null,
   "id": "950396e9",
   "metadata": {},
   "outputs": [
    {
     "data": {
      "text/plain": [
       "trans_date_trans_time    0\n",
       "cc_num                   0\n",
       "merchant                 0\n",
       "category                 0\n",
       "amt                      0\n",
       "first                    0\n",
       "last                     0\n",
       "gender                   0\n",
       "street                   0\n",
       "city                     0\n",
       "state                    0\n",
       "zip                      0\n",
       "lat                      0\n",
       "long                     0\n",
       "city_pop                 0\n",
       "job                      0\n",
       "dob                      0\n",
       "trans_num                0\n",
       "unix_time                0\n",
       "merch_lat                0\n",
       "merch_long               0\n",
       "is_fraud                 0\n",
       "merch_zipcode            0\n",
       "trans_date               0\n",
       "trans_time               0\n",
       "dtype: int64"
      ]
     },
     "execution_count": 29,
     "metadata": {},
     "output_type": "execute_result"
    }
   ],
   "source": [
    "df.isnull().sum()"
   ]
  },
  {
   "cell_type": "markdown",
   "id": "b50d1566",
   "metadata": {},
   "source": [
    "> Checking for Outliers"
   ]
  },
  {
   "cell_type": "code",
   "execution_count": null,
   "id": "761eb992",
   "metadata": {},
   "outputs": [],
   "source": []
  },
  {
   "cell_type": "markdown",
   "id": "65abc9bc",
   "metadata": {},
   "source": [
    "## **Basic EDA**"
   ]
  },
  {
   "cell_type": "code",
   "execution_count": 28,
   "id": "f8c5dd07",
   "metadata": {},
   "outputs": [
    {
     "data": {
      "application/vnd.plotly.v1+json": {
       "config": {
        "plotlyServerURL": "https://plot.ly"
       },
       "data": [
        {
         "name": "Count",
         "type": "bar",
         "x": [
          "entertainment",
          "food_dining",
          "gas_transport",
          "grocery_net",
          "grocery_pos",
          "health_fitness",
          "home",
          "kids_pets",
          "misc_net",
          "misc_pos",
          "personal_care",
          "shopping_net",
          "shopping_pos",
          "travel"
         ],
         "xaxis": "x",
         "y": [
          94014,
          91461,
          131659,
          45452,
          123638,
          85879,
          123115,
          113035,
          63287,
          79655,
          90758,
          97543,
          116672,
          40507
         ],
         "yaxis": "y"
        },
        {
         "name": "Total Amount",
         "type": "bar",
         "x": [
          "entertainment",
          "food_dining",
          "gas_transport",
          "grocery_net",
          "grocery_pos",
          "health_fitness",
          "home",
          "kids_pets",
          "misc_net",
          "misc_pos",
          "personal_care",
          "shopping_net",
          "shopping_pos",
          "travel"
         ],
         "xaxis": "x2",
         "y": [
          6036678.56,
          4672459.44,
          8351732.29,
          2439412.68,
          14460822.38,
          4653108.02,
          7173928.11,
          6503680.16,
          5117709.26,
          5009582.5,
          4353450.53,
          8625149.68,
          9307993.61,
          4516721.68
         ],
         "yaxis": "y2"
        }
       ],
       "layout": {
        "annotations": [
         {
          "font": {
           "size": 16
          },
          "showarrow": false,
          "text": "Category Count",
          "x": 0.225,
          "xanchor": "center",
          "xref": "paper",
          "y": 1,
          "yanchor": "bottom",
          "yref": "paper"
         },
         {
          "font": {
           "size": 16
          },
          "showarrow": false,
          "text": "Total Amount by Category",
          "x": 0.775,
          "xanchor": "center",
          "xref": "paper",
          "y": 1,
          "yanchor": "bottom",
          "yref": "paper"
         }
        ],
        "height": 600,
        "showlegend": true,
        "template": {
         "data": {
          "bar": [
           {
            "error_x": {
             "color": "#2a3f5f"
            },
            "error_y": {
             "color": "#2a3f5f"
            },
            "marker": {
             "line": {
              "color": "#E5ECF6",
              "width": 0.5
             },
             "pattern": {
              "fillmode": "overlay",
              "size": 10,
              "solidity": 0.2
             }
            },
            "type": "bar"
           }
          ],
          "barpolar": [
           {
            "marker": {
             "line": {
              "color": "#E5ECF6",
              "width": 0.5
             },
             "pattern": {
              "fillmode": "overlay",
              "size": 10,
              "solidity": 0.2
             }
            },
            "type": "barpolar"
           }
          ],
          "carpet": [
           {
            "aaxis": {
             "endlinecolor": "#2a3f5f",
             "gridcolor": "white",
             "linecolor": "white",
             "minorgridcolor": "white",
             "startlinecolor": "#2a3f5f"
            },
            "baxis": {
             "endlinecolor": "#2a3f5f",
             "gridcolor": "white",
             "linecolor": "white",
             "minorgridcolor": "white",
             "startlinecolor": "#2a3f5f"
            },
            "type": "carpet"
           }
          ],
          "choropleth": [
           {
            "colorbar": {
             "outlinewidth": 0,
             "ticks": ""
            },
            "type": "choropleth"
           }
          ],
          "contour": [
           {
            "colorbar": {
             "outlinewidth": 0,
             "ticks": ""
            },
            "colorscale": [
             [
              0,
              "#0d0887"
             ],
             [
              0.1111111111111111,
              "#46039f"
             ],
             [
              0.2222222222222222,
              "#7201a8"
             ],
             [
              0.3333333333333333,
              "#9c179e"
             ],
             [
              0.4444444444444444,
              "#bd3786"
             ],
             [
              0.5555555555555556,
              "#d8576b"
             ],
             [
              0.6666666666666666,
              "#ed7953"
             ],
             [
              0.7777777777777778,
              "#fb9f3a"
             ],
             [
              0.8888888888888888,
              "#fdca26"
             ],
             [
              1,
              "#f0f921"
             ]
            ],
            "type": "contour"
           }
          ],
          "contourcarpet": [
           {
            "colorbar": {
             "outlinewidth": 0,
             "ticks": ""
            },
            "type": "contourcarpet"
           }
          ],
          "heatmap": [
           {
            "colorbar": {
             "outlinewidth": 0,
             "ticks": ""
            },
            "colorscale": [
             [
              0,
              "#0d0887"
             ],
             [
              0.1111111111111111,
              "#46039f"
             ],
             [
              0.2222222222222222,
              "#7201a8"
             ],
             [
              0.3333333333333333,
              "#9c179e"
             ],
             [
              0.4444444444444444,
              "#bd3786"
             ],
             [
              0.5555555555555556,
              "#d8576b"
             ],
             [
              0.6666666666666666,
              "#ed7953"
             ],
             [
              0.7777777777777778,
              "#fb9f3a"
             ],
             [
              0.8888888888888888,
              "#fdca26"
             ],
             [
              1,
              "#f0f921"
             ]
            ],
            "type": "heatmap"
           }
          ],
          "heatmapgl": [
           {
            "colorbar": {
             "outlinewidth": 0,
             "ticks": ""
            },
            "colorscale": [
             [
              0,
              "#0d0887"
             ],
             [
              0.1111111111111111,
              "#46039f"
             ],
             [
              0.2222222222222222,
              "#7201a8"
             ],
             [
              0.3333333333333333,
              "#9c179e"
             ],
             [
              0.4444444444444444,
              "#bd3786"
             ],
             [
              0.5555555555555556,
              "#d8576b"
             ],
             [
              0.6666666666666666,
              "#ed7953"
             ],
             [
              0.7777777777777778,
              "#fb9f3a"
             ],
             [
              0.8888888888888888,
              "#fdca26"
             ],
             [
              1,
              "#f0f921"
             ]
            ],
            "type": "heatmapgl"
           }
          ],
          "histogram": [
           {
            "marker": {
             "pattern": {
              "fillmode": "overlay",
              "size": 10,
              "solidity": 0.2
             }
            },
            "type": "histogram"
           }
          ],
          "histogram2d": [
           {
            "colorbar": {
             "outlinewidth": 0,
             "ticks": ""
            },
            "colorscale": [
             [
              0,
              "#0d0887"
             ],
             [
              0.1111111111111111,
              "#46039f"
             ],
             [
              0.2222222222222222,
              "#7201a8"
             ],
             [
              0.3333333333333333,
              "#9c179e"
             ],
             [
              0.4444444444444444,
              "#bd3786"
             ],
             [
              0.5555555555555556,
              "#d8576b"
             ],
             [
              0.6666666666666666,
              "#ed7953"
             ],
             [
              0.7777777777777778,
              "#fb9f3a"
             ],
             [
              0.8888888888888888,
              "#fdca26"
             ],
             [
              1,
              "#f0f921"
             ]
            ],
            "type": "histogram2d"
           }
          ],
          "histogram2dcontour": [
           {
            "colorbar": {
             "outlinewidth": 0,
             "ticks": ""
            },
            "colorscale": [
             [
              0,
              "#0d0887"
             ],
             [
              0.1111111111111111,
              "#46039f"
             ],
             [
              0.2222222222222222,
              "#7201a8"
             ],
             [
              0.3333333333333333,
              "#9c179e"
             ],
             [
              0.4444444444444444,
              "#bd3786"
             ],
             [
              0.5555555555555556,
              "#d8576b"
             ],
             [
              0.6666666666666666,
              "#ed7953"
             ],
             [
              0.7777777777777778,
              "#fb9f3a"
             ],
             [
              0.8888888888888888,
              "#fdca26"
             ],
             [
              1,
              "#f0f921"
             ]
            ],
            "type": "histogram2dcontour"
           }
          ],
          "mesh3d": [
           {
            "colorbar": {
             "outlinewidth": 0,
             "ticks": ""
            },
            "type": "mesh3d"
           }
          ],
          "parcoords": [
           {
            "line": {
             "colorbar": {
              "outlinewidth": 0,
              "ticks": ""
             }
            },
            "type": "parcoords"
           }
          ],
          "pie": [
           {
            "automargin": true,
            "type": "pie"
           }
          ],
          "scatter": [
           {
            "fillpattern": {
             "fillmode": "overlay",
             "size": 10,
             "solidity": 0.2
            },
            "type": "scatter"
           }
          ],
          "scatter3d": [
           {
            "line": {
             "colorbar": {
              "outlinewidth": 0,
              "ticks": ""
             }
            },
            "marker": {
             "colorbar": {
              "outlinewidth": 0,
              "ticks": ""
             }
            },
            "type": "scatter3d"
           }
          ],
          "scattercarpet": [
           {
            "marker": {
             "colorbar": {
              "outlinewidth": 0,
              "ticks": ""
             }
            },
            "type": "scattercarpet"
           }
          ],
          "scattergeo": [
           {
            "marker": {
             "colorbar": {
              "outlinewidth": 0,
              "ticks": ""
             }
            },
            "type": "scattergeo"
           }
          ],
          "scattergl": [
           {
            "marker": {
             "colorbar": {
              "outlinewidth": 0,
              "ticks": ""
             }
            },
            "type": "scattergl"
           }
          ],
          "scattermapbox": [
           {
            "marker": {
             "colorbar": {
              "outlinewidth": 0,
              "ticks": ""
             }
            },
            "type": "scattermapbox"
           }
          ],
          "scatterpolar": [
           {
            "marker": {
             "colorbar": {
              "outlinewidth": 0,
              "ticks": ""
             }
            },
            "type": "scatterpolar"
           }
          ],
          "scatterpolargl": [
           {
            "marker": {
             "colorbar": {
              "outlinewidth": 0,
              "ticks": ""
             }
            },
            "type": "scatterpolargl"
           }
          ],
          "scatterternary": [
           {
            "marker": {
             "colorbar": {
              "outlinewidth": 0,
              "ticks": ""
             }
            },
            "type": "scatterternary"
           }
          ],
          "surface": [
           {
            "colorbar": {
             "outlinewidth": 0,
             "ticks": ""
            },
            "colorscale": [
             [
              0,
              "#0d0887"
             ],
             [
              0.1111111111111111,
              "#46039f"
             ],
             [
              0.2222222222222222,
              "#7201a8"
             ],
             [
              0.3333333333333333,
              "#9c179e"
             ],
             [
              0.4444444444444444,
              "#bd3786"
             ],
             [
              0.5555555555555556,
              "#d8576b"
             ],
             [
              0.6666666666666666,
              "#ed7953"
             ],
             [
              0.7777777777777778,
              "#fb9f3a"
             ],
             [
              0.8888888888888888,
              "#fdca26"
             ],
             [
              1,
              "#f0f921"
             ]
            ],
            "type": "surface"
           }
          ],
          "table": [
           {
            "cells": {
             "fill": {
              "color": "#EBF0F8"
             },
             "line": {
              "color": "white"
             }
            },
            "header": {
             "fill": {
              "color": "#C8D4E3"
             },
             "line": {
              "color": "white"
             }
            },
            "type": "table"
           }
          ]
         },
         "layout": {
          "annotationdefaults": {
           "arrowcolor": "#2a3f5f",
           "arrowhead": 0,
           "arrowwidth": 1
          },
          "autotypenumbers": "strict",
          "coloraxis": {
           "colorbar": {
            "outlinewidth": 0,
            "ticks": ""
           }
          },
          "colorscale": {
           "diverging": [
            [
             0,
             "#8e0152"
            ],
            [
             0.1,
             "#c51b7d"
            ],
            [
             0.2,
             "#de77ae"
            ],
            [
             0.3,
             "#f1b6da"
            ],
            [
             0.4,
             "#fde0ef"
            ],
            [
             0.5,
             "#f7f7f7"
            ],
            [
             0.6,
             "#e6f5d0"
            ],
            [
             0.7,
             "#b8e186"
            ],
            [
             0.8,
             "#7fbc41"
            ],
            [
             0.9,
             "#4d9221"
            ],
            [
             1,
             "#276419"
            ]
           ],
           "sequential": [
            [
             0,
             "#0d0887"
            ],
            [
             0.1111111111111111,
             "#46039f"
            ],
            [
             0.2222222222222222,
             "#7201a8"
            ],
            [
             0.3333333333333333,
             "#9c179e"
            ],
            [
             0.4444444444444444,
             "#bd3786"
            ],
            [
             0.5555555555555556,
             "#d8576b"
            ],
            [
             0.6666666666666666,
             "#ed7953"
            ],
            [
             0.7777777777777778,
             "#fb9f3a"
            ],
            [
             0.8888888888888888,
             "#fdca26"
            ],
            [
             1,
             "#f0f921"
            ]
           ],
           "sequentialminus": [
            [
             0,
             "#0d0887"
            ],
            [
             0.1111111111111111,
             "#46039f"
            ],
            [
             0.2222222222222222,
             "#7201a8"
            ],
            [
             0.3333333333333333,
             "#9c179e"
            ],
            [
             0.4444444444444444,
             "#bd3786"
            ],
            [
             0.5555555555555556,
             "#d8576b"
            ],
            [
             0.6666666666666666,
             "#ed7953"
            ],
            [
             0.7777777777777778,
             "#fb9f3a"
            ],
            [
             0.8888888888888888,
             "#fdca26"
            ],
            [
             1,
             "#f0f921"
            ]
           ]
          },
          "colorway": [
           "#636efa",
           "#EF553B",
           "#00cc96",
           "#ab63fa",
           "#FFA15A",
           "#19d3f3",
           "#FF6692",
           "#B6E880",
           "#FF97FF",
           "#FECB52"
          ],
          "font": {
           "color": "#2a3f5f"
          },
          "geo": {
           "bgcolor": "white",
           "lakecolor": "white",
           "landcolor": "#E5ECF6",
           "showlakes": true,
           "showland": true,
           "subunitcolor": "white"
          },
          "hoverlabel": {
           "align": "left"
          },
          "hovermode": "closest",
          "mapbox": {
           "style": "light"
          },
          "paper_bgcolor": "white",
          "plot_bgcolor": "#E5ECF6",
          "polar": {
           "angularaxis": {
            "gridcolor": "white",
            "linecolor": "white",
            "ticks": ""
           },
           "bgcolor": "#E5ECF6",
           "radialaxis": {
            "gridcolor": "white",
            "linecolor": "white",
            "ticks": ""
           }
          },
          "scene": {
           "xaxis": {
            "backgroundcolor": "#E5ECF6",
            "gridcolor": "white",
            "gridwidth": 2,
            "linecolor": "white",
            "showbackground": true,
            "ticks": "",
            "zerolinecolor": "white"
           },
           "yaxis": {
            "backgroundcolor": "#E5ECF6",
            "gridcolor": "white",
            "gridwidth": 2,
            "linecolor": "white",
            "showbackground": true,
            "ticks": "",
            "zerolinecolor": "white"
           },
           "zaxis": {
            "backgroundcolor": "#E5ECF6",
            "gridcolor": "white",
            "gridwidth": 2,
            "linecolor": "white",
            "showbackground": true,
            "ticks": "",
            "zerolinecolor": "white"
           }
          },
          "shapedefaults": {
           "line": {
            "color": "#2a3f5f"
           }
          },
          "ternary": {
           "aaxis": {
            "gridcolor": "white",
            "linecolor": "white",
            "ticks": ""
           },
           "baxis": {
            "gridcolor": "white",
            "linecolor": "white",
            "ticks": ""
           },
           "bgcolor": "#E5ECF6",
           "caxis": {
            "gridcolor": "white",
            "linecolor": "white",
            "ticks": ""
           }
          },
          "title": {
           "x": 0.05
          },
          "xaxis": {
           "automargin": true,
           "gridcolor": "white",
           "linecolor": "white",
           "ticks": "",
           "title": {
            "standoff": 15
           },
           "zerolinecolor": "white",
           "zerolinewidth": 2
          },
          "yaxis": {
           "automargin": true,
           "gridcolor": "white",
           "linecolor": "white",
           "ticks": "",
           "title": {
            "standoff": 15
           },
           "zerolinecolor": "white",
           "zerolinewidth": 2
          }
         }
        },
        "title": {
         "text": "Credit Card Transactions Overview by Category"
        },
        "width": 1000,
        "xaxis": {
         "anchor": "y",
         "domain": [
          0,
          0.45
         ]
        },
        "xaxis2": {
         "anchor": "y2",
         "domain": [
          0.55,
          1
         ]
        },
        "yaxis": {
         "anchor": "x",
         "domain": [
          0,
          1
         ]
        },
        "yaxis2": {
         "anchor": "x2",
         "domain": [
          0,
          1
         ]
        }
       }
      }
     },
     "metadata": {},
     "output_type": "display_data"
    }
   ],
   "source": [
    "# --- Calculate Aggregations ---\n",
    "# Aggregation for overall metrics (for first-row plots)\n",
    "df_cat = df.groupby(\"category\").agg(\n",
    "    count=(\"category\", \"count\"),\n",
    "    total_amt=(\"amt\", \"sum\")\n",
    ").reset_index()\n",
    "\n",
    "# Aggregation for fraud-specific metrics:\n",
    "# Filter for fraud transactions (is_fraud == 1)\n",
    "df_fraud = df[df[\"is_fraud\"] == 1].groupby(\"category\").agg(\n",
    "    fraud_total_amt=(\"amt\", \"sum\"),\n",
    "    fraud_count=(\"is_fraud\", \"sum\")\n",
    ").reset_index()\n",
    "\n",
    "# Compute the average fraud amount per category (handle division by zero if needed)\n",
    "df_fraud[\"avg_fraud_amt\"] = df_fraud[\"fraud_total_amt\"] / df_fraud[\"fraud_count\"]\n",
    "\n",
    "# --- Create Subplots ---\n",
    "# Two rows x two columns grid, with the second row's cell spanning both columns.\n",
    "fig = make_subplots(\n",
    "    rows=1, cols=2,\n",
    "    specs=[[{}, {}]],\n",
    "    subplot_titles=(\"Category Count\", \"Total Amount by Category\", \"Fraud Metrics by Category\")\n",
    ")\n",
    "\n",
    "# First row, first column: Bar plot for category count\n",
    "fig.add_trace(\n",
    "    go.Bar(x=df_cat[\"category\"], y=df_cat[\"count\"], name=\"Count\"),\n",
    "    row=1, col=1\n",
    ")\n",
    "\n",
    "# First row, second column: Bar plot for total amount by category\n",
    "fig.add_trace(\n",
    "    go.Bar(x=df_cat[\"category\"], y=df_cat[\"total_amt\"], name=\"Total Amount\"),\n",
    "    row=1, col=2\n",
    ")\n",
    "\n",
    "# --- Update Layout ---\n",
    "fig.update_layout(\n",
    "    height=600, width=1000,\n",
    "    title_text=\"Credit Card Transactions Overview by Category\",\n",
    "    showlegend=True\n",
    ")\n",
    "\n",
    "fig.show()"
   ]
  },
  {
   "cell_type": "code",
   "execution_count": 27,
   "id": "4755228a",
   "metadata": {},
   "outputs": [
    {
     "data": {
      "application/vnd.plotly.v1+json": {
       "config": {
        "plotlyServerURL": "https://plot.ly"
       },
       "data": [
        {
         "marker": {
          "color": "lightsalmon"
         },
         "name": "Total Fraud Amount",
         "type": "bar",
         "x": [
          "entertainment",
          "food_dining",
          "gas_transport",
          "grocery_net",
          "grocery_pos",
          "health_fitness",
          "home",
          "kids_pets",
          "misc_net",
          "misc_pos",
          "personal_care",
          "shopping_net",
          "shopping_pos",
          "travel"
         ],
         "xaxis": "x",
         "y": [
          117323.79,
          18131.62,
          7594.11,
          1629.82,
          543797.9,
          2693.04,
          50971.66,
          4331.08,
          729266.76,
          54571.020000000004,
          5757.52,
          1711723.71,
          739245.09,
          1051.49
         ],
         "yaxis": "y"
        },
        {
         "marker": {
          "color": "darkred"
         },
         "mode": "lines+markers",
         "name": "Average Fraud Amount",
         "type": "scatter",
         "x": [
          "entertainment",
          "food_dining",
          "gas_transport",
          "grocery_net",
          "grocery_pos",
          "health_fitness",
          "home",
          "kids_pets",
          "misc_net",
          "misc_pos",
          "personal_care",
          "shopping_net",
          "shopping_pos",
          "travel"
         ],
         "xaxis": "x",
         "y": [
          503.5355793991416,
          120.0769536423841,
          12.288203883495145,
          12.162835820895522,
          311.9896156052783,
          20.248421052631578,
          257.4326262626263,
          18.121673640167362,
          797.0128524590164,
          218.28408000000002,
          26.170545454545458,
          999.254938704028,
          876.9218149466192,
          9.06456896551724
         ],
         "yaxis": "y2"
        }
       ],
       "layout": {
        "annotations": [
         {
          "font": {
           "size": 16
          },
          "showarrow": false,
          "text": "Fraud Metrics by Category",
          "x": 0.47,
          "xanchor": "center",
          "xref": "paper",
          "y": 1,
          "yanchor": "bottom",
          "yref": "paper"
         }
        ],
        "height": 500,
        "showlegend": true,
        "template": {
         "data": {
          "bar": [
           {
            "error_x": {
             "color": "#2a3f5f"
            },
            "error_y": {
             "color": "#2a3f5f"
            },
            "marker": {
             "line": {
              "color": "#E5ECF6",
              "width": 0.5
             },
             "pattern": {
              "fillmode": "overlay",
              "size": 10,
              "solidity": 0.2
             }
            },
            "type": "bar"
           }
          ],
          "barpolar": [
           {
            "marker": {
             "line": {
              "color": "#E5ECF6",
              "width": 0.5
             },
             "pattern": {
              "fillmode": "overlay",
              "size": 10,
              "solidity": 0.2
             }
            },
            "type": "barpolar"
           }
          ],
          "carpet": [
           {
            "aaxis": {
             "endlinecolor": "#2a3f5f",
             "gridcolor": "white",
             "linecolor": "white",
             "minorgridcolor": "white",
             "startlinecolor": "#2a3f5f"
            },
            "baxis": {
             "endlinecolor": "#2a3f5f",
             "gridcolor": "white",
             "linecolor": "white",
             "minorgridcolor": "white",
             "startlinecolor": "#2a3f5f"
            },
            "type": "carpet"
           }
          ],
          "choropleth": [
           {
            "colorbar": {
             "outlinewidth": 0,
             "ticks": ""
            },
            "type": "choropleth"
           }
          ],
          "contour": [
           {
            "colorbar": {
             "outlinewidth": 0,
             "ticks": ""
            },
            "colorscale": [
             [
              0,
              "#0d0887"
             ],
             [
              0.1111111111111111,
              "#46039f"
             ],
             [
              0.2222222222222222,
              "#7201a8"
             ],
             [
              0.3333333333333333,
              "#9c179e"
             ],
             [
              0.4444444444444444,
              "#bd3786"
             ],
             [
              0.5555555555555556,
              "#d8576b"
             ],
             [
              0.6666666666666666,
              "#ed7953"
             ],
             [
              0.7777777777777778,
              "#fb9f3a"
             ],
             [
              0.8888888888888888,
              "#fdca26"
             ],
             [
              1,
              "#f0f921"
             ]
            ],
            "type": "contour"
           }
          ],
          "contourcarpet": [
           {
            "colorbar": {
             "outlinewidth": 0,
             "ticks": ""
            },
            "type": "contourcarpet"
           }
          ],
          "heatmap": [
           {
            "colorbar": {
             "outlinewidth": 0,
             "ticks": ""
            },
            "colorscale": [
             [
              0,
              "#0d0887"
             ],
             [
              0.1111111111111111,
              "#46039f"
             ],
             [
              0.2222222222222222,
              "#7201a8"
             ],
             [
              0.3333333333333333,
              "#9c179e"
             ],
             [
              0.4444444444444444,
              "#bd3786"
             ],
             [
              0.5555555555555556,
              "#d8576b"
             ],
             [
              0.6666666666666666,
              "#ed7953"
             ],
             [
              0.7777777777777778,
              "#fb9f3a"
             ],
             [
              0.8888888888888888,
              "#fdca26"
             ],
             [
              1,
              "#f0f921"
             ]
            ],
            "type": "heatmap"
           }
          ],
          "heatmapgl": [
           {
            "colorbar": {
             "outlinewidth": 0,
             "ticks": ""
            },
            "colorscale": [
             [
              0,
              "#0d0887"
             ],
             [
              0.1111111111111111,
              "#46039f"
             ],
             [
              0.2222222222222222,
              "#7201a8"
             ],
             [
              0.3333333333333333,
              "#9c179e"
             ],
             [
              0.4444444444444444,
              "#bd3786"
             ],
             [
              0.5555555555555556,
              "#d8576b"
             ],
             [
              0.6666666666666666,
              "#ed7953"
             ],
             [
              0.7777777777777778,
              "#fb9f3a"
             ],
             [
              0.8888888888888888,
              "#fdca26"
             ],
             [
              1,
              "#f0f921"
             ]
            ],
            "type": "heatmapgl"
           }
          ],
          "histogram": [
           {
            "marker": {
             "pattern": {
              "fillmode": "overlay",
              "size": 10,
              "solidity": 0.2
             }
            },
            "type": "histogram"
           }
          ],
          "histogram2d": [
           {
            "colorbar": {
             "outlinewidth": 0,
             "ticks": ""
            },
            "colorscale": [
             [
              0,
              "#0d0887"
             ],
             [
              0.1111111111111111,
              "#46039f"
             ],
             [
              0.2222222222222222,
              "#7201a8"
             ],
             [
              0.3333333333333333,
              "#9c179e"
             ],
             [
              0.4444444444444444,
              "#bd3786"
             ],
             [
              0.5555555555555556,
              "#d8576b"
             ],
             [
              0.6666666666666666,
              "#ed7953"
             ],
             [
              0.7777777777777778,
              "#fb9f3a"
             ],
             [
              0.8888888888888888,
              "#fdca26"
             ],
             [
              1,
              "#f0f921"
             ]
            ],
            "type": "histogram2d"
           }
          ],
          "histogram2dcontour": [
           {
            "colorbar": {
             "outlinewidth": 0,
             "ticks": ""
            },
            "colorscale": [
             [
              0,
              "#0d0887"
             ],
             [
              0.1111111111111111,
              "#46039f"
             ],
             [
              0.2222222222222222,
              "#7201a8"
             ],
             [
              0.3333333333333333,
              "#9c179e"
             ],
             [
              0.4444444444444444,
              "#bd3786"
             ],
             [
              0.5555555555555556,
              "#d8576b"
             ],
             [
              0.6666666666666666,
              "#ed7953"
             ],
             [
              0.7777777777777778,
              "#fb9f3a"
             ],
             [
              0.8888888888888888,
              "#fdca26"
             ],
             [
              1,
              "#f0f921"
             ]
            ],
            "type": "histogram2dcontour"
           }
          ],
          "mesh3d": [
           {
            "colorbar": {
             "outlinewidth": 0,
             "ticks": ""
            },
            "type": "mesh3d"
           }
          ],
          "parcoords": [
           {
            "line": {
             "colorbar": {
              "outlinewidth": 0,
              "ticks": ""
             }
            },
            "type": "parcoords"
           }
          ],
          "pie": [
           {
            "automargin": true,
            "type": "pie"
           }
          ],
          "scatter": [
           {
            "fillpattern": {
             "fillmode": "overlay",
             "size": 10,
             "solidity": 0.2
            },
            "type": "scatter"
           }
          ],
          "scatter3d": [
           {
            "line": {
             "colorbar": {
              "outlinewidth": 0,
              "ticks": ""
             }
            },
            "marker": {
             "colorbar": {
              "outlinewidth": 0,
              "ticks": ""
             }
            },
            "type": "scatter3d"
           }
          ],
          "scattercarpet": [
           {
            "marker": {
             "colorbar": {
              "outlinewidth": 0,
              "ticks": ""
             }
            },
            "type": "scattercarpet"
           }
          ],
          "scattergeo": [
           {
            "marker": {
             "colorbar": {
              "outlinewidth": 0,
              "ticks": ""
             }
            },
            "type": "scattergeo"
           }
          ],
          "scattergl": [
           {
            "marker": {
             "colorbar": {
              "outlinewidth": 0,
              "ticks": ""
             }
            },
            "type": "scattergl"
           }
          ],
          "scattermapbox": [
           {
            "marker": {
             "colorbar": {
              "outlinewidth": 0,
              "ticks": ""
             }
            },
            "type": "scattermapbox"
           }
          ],
          "scatterpolar": [
           {
            "marker": {
             "colorbar": {
              "outlinewidth": 0,
              "ticks": ""
             }
            },
            "type": "scatterpolar"
           }
          ],
          "scatterpolargl": [
           {
            "marker": {
             "colorbar": {
              "outlinewidth": 0,
              "ticks": ""
             }
            },
            "type": "scatterpolargl"
           }
          ],
          "scatterternary": [
           {
            "marker": {
             "colorbar": {
              "outlinewidth": 0,
              "ticks": ""
             }
            },
            "type": "scatterternary"
           }
          ],
          "surface": [
           {
            "colorbar": {
             "outlinewidth": 0,
             "ticks": ""
            },
            "colorscale": [
             [
              0,
              "#0d0887"
             ],
             [
              0.1111111111111111,
              "#46039f"
             ],
             [
              0.2222222222222222,
              "#7201a8"
             ],
             [
              0.3333333333333333,
              "#9c179e"
             ],
             [
              0.4444444444444444,
              "#bd3786"
             ],
             [
              0.5555555555555556,
              "#d8576b"
             ],
             [
              0.6666666666666666,
              "#ed7953"
             ],
             [
              0.7777777777777778,
              "#fb9f3a"
             ],
             [
              0.8888888888888888,
              "#fdca26"
             ],
             [
              1,
              "#f0f921"
             ]
            ],
            "type": "surface"
           }
          ],
          "table": [
           {
            "cells": {
             "fill": {
              "color": "#EBF0F8"
             },
             "line": {
              "color": "white"
             }
            },
            "header": {
             "fill": {
              "color": "#C8D4E3"
             },
             "line": {
              "color": "white"
             }
            },
            "type": "table"
           }
          ]
         },
         "layout": {
          "annotationdefaults": {
           "arrowcolor": "#2a3f5f",
           "arrowhead": 0,
           "arrowwidth": 1
          },
          "autotypenumbers": "strict",
          "coloraxis": {
           "colorbar": {
            "outlinewidth": 0,
            "ticks": ""
           }
          },
          "colorscale": {
           "diverging": [
            [
             0,
             "#8e0152"
            ],
            [
             0.1,
             "#c51b7d"
            ],
            [
             0.2,
             "#de77ae"
            ],
            [
             0.3,
             "#f1b6da"
            ],
            [
             0.4,
             "#fde0ef"
            ],
            [
             0.5,
             "#f7f7f7"
            ],
            [
             0.6,
             "#e6f5d0"
            ],
            [
             0.7,
             "#b8e186"
            ],
            [
             0.8,
             "#7fbc41"
            ],
            [
             0.9,
             "#4d9221"
            ],
            [
             1,
             "#276419"
            ]
           ],
           "sequential": [
            [
             0,
             "#0d0887"
            ],
            [
             0.1111111111111111,
             "#46039f"
            ],
            [
             0.2222222222222222,
             "#7201a8"
            ],
            [
             0.3333333333333333,
             "#9c179e"
            ],
            [
             0.4444444444444444,
             "#bd3786"
            ],
            [
             0.5555555555555556,
             "#d8576b"
            ],
            [
             0.6666666666666666,
             "#ed7953"
            ],
            [
             0.7777777777777778,
             "#fb9f3a"
            ],
            [
             0.8888888888888888,
             "#fdca26"
            ],
            [
             1,
             "#f0f921"
            ]
           ],
           "sequentialminus": [
            [
             0,
             "#0d0887"
            ],
            [
             0.1111111111111111,
             "#46039f"
            ],
            [
             0.2222222222222222,
             "#7201a8"
            ],
            [
             0.3333333333333333,
             "#9c179e"
            ],
            [
             0.4444444444444444,
             "#bd3786"
            ],
            [
             0.5555555555555556,
             "#d8576b"
            ],
            [
             0.6666666666666666,
             "#ed7953"
            ],
            [
             0.7777777777777778,
             "#fb9f3a"
            ],
            [
             0.8888888888888888,
             "#fdca26"
            ],
            [
             1,
             "#f0f921"
            ]
           ]
          },
          "colorway": [
           "#636efa",
           "#EF553B",
           "#00cc96",
           "#ab63fa",
           "#FFA15A",
           "#19d3f3",
           "#FF6692",
           "#B6E880",
           "#FF97FF",
           "#FECB52"
          ],
          "font": {
           "color": "#2a3f5f"
          },
          "geo": {
           "bgcolor": "white",
           "lakecolor": "white",
           "landcolor": "#E5ECF6",
           "showlakes": true,
           "showland": true,
           "subunitcolor": "white"
          },
          "hoverlabel": {
           "align": "left"
          },
          "hovermode": "closest",
          "mapbox": {
           "style": "light"
          },
          "paper_bgcolor": "white",
          "plot_bgcolor": "#E5ECF6",
          "polar": {
           "angularaxis": {
            "gridcolor": "white",
            "linecolor": "white",
            "ticks": ""
           },
           "bgcolor": "#E5ECF6",
           "radialaxis": {
            "gridcolor": "white",
            "linecolor": "white",
            "ticks": ""
           }
          },
          "scene": {
           "xaxis": {
            "backgroundcolor": "#E5ECF6",
            "gridcolor": "white",
            "gridwidth": 2,
            "linecolor": "white",
            "showbackground": true,
            "ticks": "",
            "zerolinecolor": "white"
           },
           "yaxis": {
            "backgroundcolor": "#E5ECF6",
            "gridcolor": "white",
            "gridwidth": 2,
            "linecolor": "white",
            "showbackground": true,
            "ticks": "",
            "zerolinecolor": "white"
           },
           "zaxis": {
            "backgroundcolor": "#E5ECF6",
            "gridcolor": "white",
            "gridwidth": 2,
            "linecolor": "white",
            "showbackground": true,
            "ticks": "",
            "zerolinecolor": "white"
           }
          },
          "shapedefaults": {
           "line": {
            "color": "#2a3f5f"
           }
          },
          "ternary": {
           "aaxis": {
            "gridcolor": "white",
            "linecolor": "white",
            "ticks": ""
           },
           "baxis": {
            "gridcolor": "white",
            "linecolor": "white",
            "ticks": ""
           },
           "bgcolor": "#E5ECF6",
           "caxis": {
            "gridcolor": "white",
            "linecolor": "white",
            "ticks": ""
           }
          },
          "title": {
           "x": 0.05
          },
          "xaxis": {
           "automargin": true,
           "gridcolor": "white",
           "linecolor": "white",
           "ticks": "",
           "title": {
            "standoff": 15
           },
           "zerolinecolor": "white",
           "zerolinewidth": 2
          },
          "yaxis": {
           "automargin": true,
           "gridcolor": "white",
           "linecolor": "white",
           "ticks": "",
           "title": {
            "standoff": 15
           },
           "zerolinecolor": "white",
           "zerolinewidth": 2
          }
         }
        },
        "title": {
         "text": "Combined Fraud Metrics by Category with Secondary y-axis"
        },
        "width": 1000,
        "xaxis": {
         "anchor": "y",
         "domain": [
          0,
          0.94
         ]
        },
        "yaxis": {
         "anchor": "x",
         "domain": [
          0,
          1
         ],
         "title": {
          "text": "Total Fraud Amount"
         }
        },
        "yaxis2": {
         "anchor": "x",
         "overlaying": "y",
         "side": "right",
         "title": {
          "text": "Average Fraud Amount"
         }
        }
       }
      }
     },
     "metadata": {},
     "output_type": "display_data"
    }
   ],
   "source": [
    "df_fraud = df[df[\"is_fraud\"] == 1].groupby(\"category\").agg(\n",
    "    fraud_total_amt=(\"amt\", \"sum\"),\n",
    "    fraud_count=(\"is_fraud\", \"sum\")\n",
    ").reset_index()\n",
    "df_fraud[\"avg_fraud_amt\"] = df_fraud[\"fraud_total_amt\"] / df_fraud[\"fraud_count\"]\n",
    "\n",
    "# --- Create Subplots with a Secondary y-axis for the second row ---\n",
    "# For simplicity, here we create a single subplot with a secondary y-axis.\n",
    "# This plot will contain both traces for fraud metrics.\n",
    "fig = make_subplots(specs=[[{\"secondary_y\": True}]],\n",
    "                    subplot_titles=[\"Fraud Metrics by Category\"])\n",
    "\n",
    "# Add Bar trace for Total Fraud Amount on primary y-axis\n",
    "fig.add_trace(\n",
    "    go.Bar(x=df_fraud[\"category\"], y=df_fraud[\"fraud_total_amt\"],\n",
    "           name=\"Total Fraud Amount\", marker_color=\"lightsalmon\"),\n",
    "    secondary_y=False\n",
    ")\n",
    "\n",
    "# Add Line trace for Average Fraud Amount on secondary y-axis\n",
    "fig.add_trace(\n",
    "    go.Scatter(x=df_fraud[\"category\"], y=df_fraud[\"avg_fraud_amt\"],\n",
    "               mode=\"lines+markers\",\n",
    "               name=\"Average Fraud Amount\", marker_color=\"darkred\"),\n",
    "    secondary_y=True\n",
    ")\n",
    "\n",
    "# Set titles for each y-axis\n",
    "fig.update_yaxes(title_text=\"Total Fraud Amount\", secondary_y=False)\n",
    "fig.update_yaxes(title_text=\"Average Fraud Amount\", secondary_y=True)\n",
    "\n",
    "# Update layout for clarity\n",
    "fig.update_layout(\n",
    "    height=500, width=1000,\n",
    "    title_text=\"Combined Fraud Metrics by Category with Secondary y-axis\",\n",
    "    showlegend=True\n",
    ")\n",
    "\n",
    "fig.show()"
   ]
  },
  {
   "cell_type": "markdown",
   "id": "9c7ed6b0",
   "metadata": {},
   "source": [
    "## **Time Series EDA**"
   ]
  },
  {
   "cell_type": "code",
   "execution_count": 30,
   "id": "10908b69",
   "metadata": {},
   "outputs": [
    {
     "data": {
      "application/vnd.plotly.v1+json": {
       "config": {
        "plotlyServerURL": "https://plot.ly"
       },
       "data": [
        {
         "hovertemplate": "variable=amt<br>trans_date_trans_time=%{x}<br>value=%{y}<extra></extra>",
         "legendgroup": "amt",
         "line": {
          "color": "#636efa",
          "dash": "solid"
         },
         "marker": {
          "symbol": "circle"
         },
         "mode": "lines",
         "name": "amt",
         "orientation": "v",
         "showlegend": true,
         "type": "scatter",
         "x": [
          "2019-01-01T00:00:00",
          "2019-01-02T00:00:00",
          "2019-01-03T00:00:00",
          "2019-01-04T00:00:00",
          "2019-01-05T00:00:00",
          "2019-01-06T00:00:00",
          "2019-01-07T00:00:00",
          "2019-01-08T00:00:00",
          "2019-01-09T00:00:00",
          "2019-01-10T00:00:00",
          "2019-01-11T00:00:00",
          "2019-01-12T00:00:00",
          "2019-01-13T00:00:00",
          "2019-01-14T00:00:00",
          "2019-01-15T00:00:00",
          "2019-01-16T00:00:00",
          "2019-01-17T00:00:00",
          "2019-01-18T00:00:00",
          "2019-01-19T00:00:00",
          "2019-01-20T00:00:00",
          "2019-01-21T00:00:00",
          "2019-01-22T00:00:00",
          "2019-01-23T00:00:00",
          "2019-01-24T00:00:00",
          "2019-01-25T00:00:00",
          "2019-01-26T00:00:00",
          "2019-01-27T00:00:00",
          "2019-01-28T00:00:00",
          "2019-01-29T00:00:00",
          "2019-01-30T00:00:00",
          "2019-01-31T00:00:00",
          "2019-02-01T00:00:00",
          "2019-02-02T00:00:00",
          "2019-02-03T00:00:00",
          "2019-02-04T00:00:00",
          "2019-02-05T00:00:00",
          "2019-02-06T00:00:00",
          "2019-02-07T00:00:00",
          "2019-02-08T00:00:00",
          "2019-02-09T00:00:00",
          "2019-02-10T00:00:00",
          "2019-02-11T00:00:00",
          "2019-02-12T00:00:00",
          "2019-02-13T00:00:00",
          "2019-02-14T00:00:00",
          "2019-02-15T00:00:00",
          "2019-02-16T00:00:00",
          "2019-02-17T00:00:00",
          "2019-02-18T00:00:00",
          "2019-02-19T00:00:00",
          "2019-02-20T00:00:00",
          "2019-02-21T00:00:00",
          "2019-02-22T00:00:00",
          "2019-02-23T00:00:00",
          "2019-02-24T00:00:00",
          "2019-02-25T00:00:00",
          "2019-02-26T00:00:00",
          "2019-02-27T00:00:00",
          "2019-02-28T00:00:00",
          "2019-03-01T00:00:00",
          "2019-03-02T00:00:00",
          "2019-03-03T00:00:00",
          "2019-03-04T00:00:00",
          "2019-03-05T00:00:00",
          "2019-03-06T00:00:00",
          "2019-03-07T00:00:00",
          "2019-03-08T00:00:00",
          "2019-03-09T00:00:00",
          "2019-03-10T00:00:00",
          "2019-03-11T00:00:00",
          "2019-03-12T00:00:00",
          "2019-03-13T00:00:00",
          "2019-03-14T00:00:00",
          "2019-03-15T00:00:00",
          "2019-03-16T00:00:00",
          "2019-03-17T00:00:00",
          "2019-03-18T00:00:00",
          "2019-03-19T00:00:00",
          "2019-03-20T00:00:00",
          "2019-03-21T00:00:00",
          "2019-03-22T00:00:00",
          "2019-03-23T00:00:00",
          "2019-03-24T00:00:00",
          "2019-03-25T00:00:00",
          "2019-03-26T00:00:00",
          "2019-03-27T00:00:00",
          "2019-03-28T00:00:00",
          "2019-03-29T00:00:00",
          "2019-03-30T00:00:00",
          "2019-03-31T00:00:00",
          "2019-04-01T00:00:00",
          "2019-04-02T00:00:00",
          "2019-04-03T00:00:00",
          "2019-04-04T00:00:00",
          "2019-04-05T00:00:00",
          "2019-04-06T00:00:00",
          "2019-04-07T00:00:00",
          "2019-04-08T00:00:00",
          "2019-04-09T00:00:00",
          "2019-04-10T00:00:00",
          "2019-04-11T00:00:00",
          "2019-04-12T00:00:00",
          "2019-04-13T00:00:00",
          "2019-04-14T00:00:00",
          "2019-04-15T00:00:00",
          "2019-04-16T00:00:00",
          "2019-04-17T00:00:00",
          "2019-04-18T00:00:00",
          "2019-04-19T00:00:00",
          "2019-04-20T00:00:00",
          "2019-04-21T00:00:00",
          "2019-04-22T00:00:00",
          "2019-04-23T00:00:00",
          "2019-04-24T00:00:00",
          "2019-04-25T00:00:00",
          "2019-04-26T00:00:00",
          "2019-04-27T00:00:00",
          "2019-04-28T00:00:00",
          "2019-04-29T00:00:00",
          "2019-04-30T00:00:00",
          "2019-05-01T00:00:00",
          "2019-05-02T00:00:00",
          "2019-05-03T00:00:00",
          "2019-05-04T00:00:00",
          "2019-05-05T00:00:00",
          "2019-05-06T00:00:00",
          "2019-05-07T00:00:00",
          "2019-05-08T00:00:00",
          "2019-05-09T00:00:00",
          "2019-05-10T00:00:00",
          "2019-05-11T00:00:00",
          "2019-05-12T00:00:00",
          "2019-05-13T00:00:00",
          "2019-05-14T00:00:00",
          "2019-05-15T00:00:00",
          "2019-05-16T00:00:00",
          "2019-05-17T00:00:00",
          "2019-05-18T00:00:00",
          "2019-05-19T00:00:00",
          "2019-05-20T00:00:00",
          "2019-05-21T00:00:00",
          "2019-05-22T00:00:00",
          "2019-05-23T00:00:00",
          "2019-05-24T00:00:00",
          "2019-05-25T00:00:00",
          "2019-05-26T00:00:00",
          "2019-05-27T00:00:00",
          "2019-05-28T00:00:00",
          "2019-05-29T00:00:00",
          "2019-05-30T00:00:00",
          "2019-05-31T00:00:00",
          "2019-06-01T00:00:00",
          "2019-06-02T00:00:00",
          "2019-06-03T00:00:00",
          "2019-06-04T00:00:00",
          "2019-06-05T00:00:00",
          "2019-06-06T00:00:00",
          "2019-06-07T00:00:00",
          "2019-06-08T00:00:00",
          "2019-06-09T00:00:00",
          "2019-06-10T00:00:00",
          "2019-06-11T00:00:00",
          "2019-06-12T00:00:00",
          "2019-06-13T00:00:00",
          "2019-06-14T00:00:00",
          "2019-06-15T00:00:00",
          "2019-06-16T00:00:00",
          "2019-06-17T00:00:00",
          "2019-06-18T00:00:00",
          "2019-06-19T00:00:00",
          "2019-06-20T00:00:00",
          "2019-06-21T00:00:00",
          "2019-06-22T00:00:00",
          "2019-06-23T00:00:00",
          "2019-06-24T00:00:00",
          "2019-06-25T00:00:00",
          "2019-06-26T00:00:00",
          "2019-06-27T00:00:00",
          "2019-06-28T00:00:00",
          "2019-06-29T00:00:00",
          "2019-06-30T00:00:00",
          "2019-07-01T00:00:00",
          "2019-07-02T00:00:00",
          "2019-07-03T00:00:00",
          "2019-07-04T00:00:00",
          "2019-07-05T00:00:00",
          "2019-07-06T00:00:00",
          "2019-07-07T00:00:00",
          "2019-07-08T00:00:00",
          "2019-07-09T00:00:00",
          "2019-07-10T00:00:00",
          "2019-07-11T00:00:00",
          "2019-07-12T00:00:00",
          "2019-07-13T00:00:00",
          "2019-07-14T00:00:00",
          "2019-07-15T00:00:00",
          "2019-07-16T00:00:00",
          "2019-07-17T00:00:00",
          "2019-07-18T00:00:00",
          "2019-07-19T00:00:00",
          "2019-07-20T00:00:00",
          "2019-07-21T00:00:00",
          "2019-07-22T00:00:00",
          "2019-07-23T00:00:00",
          "2019-07-24T00:00:00",
          "2019-07-25T00:00:00",
          "2019-07-26T00:00:00",
          "2019-07-27T00:00:00",
          "2019-07-28T00:00:00",
          "2019-07-29T00:00:00",
          "2019-07-30T00:00:00",
          "2019-07-31T00:00:00",
          "2019-08-01T00:00:00",
          "2019-08-02T00:00:00",
          "2019-08-03T00:00:00",
          "2019-08-04T00:00:00",
          "2019-08-05T00:00:00",
          "2019-08-06T00:00:00",
          "2019-08-07T00:00:00",
          "2019-08-08T00:00:00",
          "2019-08-09T00:00:00",
          "2019-08-10T00:00:00",
          "2019-08-11T00:00:00",
          "2019-08-12T00:00:00",
          "2019-08-13T00:00:00",
          "2019-08-14T00:00:00",
          "2019-08-15T00:00:00",
          "2019-08-16T00:00:00",
          "2019-08-17T00:00:00",
          "2019-08-18T00:00:00",
          "2019-08-19T00:00:00",
          "2019-08-20T00:00:00",
          "2019-08-21T00:00:00",
          "2019-08-22T00:00:00",
          "2019-08-23T00:00:00",
          "2019-08-24T00:00:00",
          "2019-08-25T00:00:00",
          "2019-08-26T00:00:00",
          "2019-08-27T00:00:00",
          "2019-08-28T00:00:00",
          "2019-08-29T00:00:00",
          "2019-08-30T00:00:00",
          "2019-08-31T00:00:00",
          "2019-09-01T00:00:00",
          "2019-09-02T00:00:00",
          "2019-09-03T00:00:00",
          "2019-09-04T00:00:00",
          "2019-09-05T00:00:00",
          "2019-09-06T00:00:00",
          "2019-09-07T00:00:00",
          "2019-09-08T00:00:00",
          "2019-09-09T00:00:00",
          "2019-09-10T00:00:00",
          "2019-09-11T00:00:00",
          "2019-09-12T00:00:00",
          "2019-09-13T00:00:00",
          "2019-09-14T00:00:00",
          "2019-09-15T00:00:00",
          "2019-09-16T00:00:00",
          "2019-09-17T00:00:00",
          "2019-09-18T00:00:00",
          "2019-09-19T00:00:00",
          "2019-09-20T00:00:00",
          "2019-09-21T00:00:00",
          "2019-09-22T00:00:00",
          "2019-09-23T00:00:00",
          "2019-09-24T00:00:00",
          "2019-09-25T00:00:00",
          "2019-09-26T00:00:00",
          "2019-09-27T00:00:00",
          "2019-09-28T00:00:00",
          "2019-09-29T00:00:00",
          "2019-09-30T00:00:00",
          "2019-10-01T00:00:00",
          "2019-10-02T00:00:00",
          "2019-10-03T00:00:00",
          "2019-10-04T00:00:00",
          "2019-10-05T00:00:00",
          "2019-10-06T00:00:00",
          "2019-10-07T00:00:00",
          "2019-10-08T00:00:00",
          "2019-10-09T00:00:00",
          "2019-10-10T00:00:00",
          "2019-10-11T00:00:00",
          "2019-10-12T00:00:00",
          "2019-10-13T00:00:00",
          "2019-10-14T00:00:00",
          "2019-10-15T00:00:00",
          "2019-10-16T00:00:00",
          "2019-10-17T00:00:00",
          "2019-10-18T00:00:00",
          "2019-10-19T00:00:00",
          "2019-10-20T00:00:00",
          "2019-10-21T00:00:00",
          "2019-10-22T00:00:00",
          "2019-10-23T00:00:00",
          "2019-10-24T00:00:00",
          "2019-10-25T00:00:00",
          "2019-10-26T00:00:00",
          "2019-10-27T00:00:00",
          "2019-10-28T00:00:00",
          "2019-10-29T00:00:00",
          "2019-10-30T00:00:00",
          "2019-10-31T00:00:00",
          "2019-11-01T00:00:00",
          "2019-11-02T00:00:00",
          "2019-11-03T00:00:00",
          "2019-11-04T00:00:00",
          "2019-11-05T00:00:00",
          "2019-11-06T00:00:00",
          "2019-11-07T00:00:00",
          "2019-11-08T00:00:00",
          "2019-11-09T00:00:00",
          "2019-11-10T00:00:00",
          "2019-11-11T00:00:00",
          "2019-11-12T00:00:00",
          "2019-11-13T00:00:00",
          "2019-11-14T00:00:00",
          "2019-11-15T00:00:00",
          "2019-11-16T00:00:00",
          "2019-11-17T00:00:00",
          "2019-11-18T00:00:00",
          "2019-11-19T00:00:00",
          "2019-11-20T00:00:00",
          "2019-11-21T00:00:00",
          "2019-11-22T00:00:00",
          "2019-11-23T00:00:00",
          "2019-11-24T00:00:00",
          "2019-11-25T00:00:00",
          "2019-11-26T00:00:00",
          "2019-11-27T00:00:00",
          "2019-11-28T00:00:00",
          "2019-11-29T00:00:00",
          "2019-11-30T00:00:00",
          "2019-12-01T00:00:00",
          "2019-12-02T00:00:00",
          "2019-12-03T00:00:00",
          "2019-12-04T00:00:00",
          "2019-12-05T00:00:00",
          "2019-12-06T00:00:00",
          "2019-12-07T00:00:00",
          "2019-12-08T00:00:00",
          "2019-12-09T00:00:00",
          "2019-12-10T00:00:00",
          "2019-12-11T00:00:00",
          "2019-12-12T00:00:00",
          "2019-12-13T00:00:00",
          "2019-12-14T00:00:00",
          "2019-12-15T00:00:00",
          "2019-12-16T00:00:00",
          "2019-12-17T00:00:00",
          "2019-12-18T00:00:00",
          "2019-12-19T00:00:00",
          "2019-12-20T00:00:00",
          "2019-12-21T00:00:00",
          "2019-12-22T00:00:00",
          "2019-12-23T00:00:00",
          "2019-12-24T00:00:00",
          "2019-12-25T00:00:00",
          "2019-12-26T00:00:00",
          "2019-12-27T00:00:00",
          "2019-12-28T00:00:00",
          "2019-12-29T00:00:00",
          "2019-12-30T00:00:00",
          "2019-12-31T00:00:00",
          "2020-01-01T00:00:00",
          "2020-01-02T00:00:00",
          "2020-01-03T00:00:00",
          "2020-01-04T00:00:00",
          "2020-01-05T00:00:00",
          "2020-01-06T00:00:00",
          "2020-01-07T00:00:00",
          "2020-01-08T00:00:00",
          "2020-01-09T00:00:00",
          "2020-01-10T00:00:00",
          "2020-01-11T00:00:00",
          "2020-01-12T00:00:00",
          "2020-01-13T00:00:00",
          "2020-01-14T00:00:00",
          "2020-01-15T00:00:00",
          "2020-01-16T00:00:00",
          "2020-01-17T00:00:00",
          "2020-01-18T00:00:00",
          "2020-01-19T00:00:00",
          "2020-01-20T00:00:00",
          "2020-01-21T00:00:00",
          "2020-01-22T00:00:00",
          "2020-01-23T00:00:00",
          "2020-01-24T00:00:00",
          "2020-01-25T00:00:00",
          "2020-01-26T00:00:00",
          "2020-01-27T00:00:00",
          "2020-01-28T00:00:00",
          "2020-01-29T00:00:00",
          "2020-01-30T00:00:00",
          "2020-01-31T00:00:00",
          "2020-02-01T00:00:00",
          "2020-02-02T00:00:00",
          "2020-02-03T00:00:00",
          "2020-02-04T00:00:00",
          "2020-02-05T00:00:00",
          "2020-02-06T00:00:00",
          "2020-02-07T00:00:00",
          "2020-02-08T00:00:00",
          "2020-02-09T00:00:00",
          "2020-02-10T00:00:00",
          "2020-02-11T00:00:00",
          "2020-02-12T00:00:00",
          "2020-02-13T00:00:00",
          "2020-02-14T00:00:00",
          "2020-02-15T00:00:00",
          "2020-02-16T00:00:00",
          "2020-02-17T00:00:00",
          "2020-02-18T00:00:00",
          "2020-02-19T00:00:00",
          "2020-02-20T00:00:00",
          "2020-02-21T00:00:00",
          "2020-02-22T00:00:00",
          "2020-02-23T00:00:00",
          "2020-02-24T00:00:00",
          "2020-02-25T00:00:00",
          "2020-02-26T00:00:00",
          "2020-02-27T00:00:00",
          "2020-02-28T00:00:00",
          "2020-02-29T00:00:00",
          "2020-03-01T00:00:00",
          "2020-03-02T00:00:00",
          "2020-03-03T00:00:00",
          "2020-03-04T00:00:00",
          "2020-03-05T00:00:00",
          "2020-03-06T00:00:00",
          "2020-03-07T00:00:00",
          "2020-03-08T00:00:00",
          "2020-03-09T00:00:00",
          "2020-03-10T00:00:00",
          "2020-03-11T00:00:00",
          "2020-03-12T00:00:00",
          "2020-03-13T00:00:00",
          "2020-03-14T00:00:00",
          "2020-03-15T00:00:00",
          "2020-03-16T00:00:00",
          "2020-03-17T00:00:00",
          "2020-03-18T00:00:00",
          "2020-03-19T00:00:00",
          "2020-03-20T00:00:00",
          "2020-03-21T00:00:00",
          "2020-03-22T00:00:00",
          "2020-03-23T00:00:00",
          "2020-03-24T00:00:00",
          "2020-03-25T00:00:00",
          "2020-03-26T00:00:00",
          "2020-03-27T00:00:00",
          "2020-03-28T00:00:00",
          "2020-03-29T00:00:00",
          "2020-03-30T00:00:00",
          "2020-03-31T00:00:00",
          "2020-04-01T00:00:00",
          "2020-04-02T00:00:00",
          "2020-04-03T00:00:00",
          "2020-04-04T00:00:00",
          "2020-04-05T00:00:00",
          "2020-04-06T00:00:00",
          "2020-04-07T00:00:00",
          "2020-04-08T00:00:00",
          "2020-04-09T00:00:00",
          "2020-04-10T00:00:00",
          "2020-04-11T00:00:00",
          "2020-04-12T00:00:00",
          "2020-04-13T00:00:00",
          "2020-04-14T00:00:00",
          "2020-04-15T00:00:00",
          "2020-04-16T00:00:00",
          "2020-04-17T00:00:00",
          "2020-04-18T00:00:00",
          "2020-04-19T00:00:00",
          "2020-04-20T00:00:00",
          "2020-04-21T00:00:00",
          "2020-04-22T00:00:00",
          "2020-04-23T00:00:00",
          "2020-04-24T00:00:00",
          "2020-04-25T00:00:00",
          "2020-04-26T00:00:00",
          "2020-04-27T00:00:00",
          "2020-04-28T00:00:00",
          "2020-04-29T00:00:00",
          "2020-04-30T00:00:00",
          "2020-05-01T00:00:00",
          "2020-05-02T00:00:00",
          "2020-05-03T00:00:00",
          "2020-05-04T00:00:00",
          "2020-05-05T00:00:00",
          "2020-05-06T00:00:00",
          "2020-05-07T00:00:00",
          "2020-05-08T00:00:00",
          "2020-05-09T00:00:00",
          "2020-05-10T00:00:00",
          "2020-05-11T00:00:00",
          "2020-05-12T00:00:00",
          "2020-05-13T00:00:00",
          "2020-05-14T00:00:00",
          "2020-05-15T00:00:00",
          "2020-05-16T00:00:00",
          "2020-05-17T00:00:00",
          "2020-05-18T00:00:00",
          "2020-05-19T00:00:00",
          "2020-05-20T00:00:00",
          "2020-05-21T00:00:00",
          "2020-05-22T00:00:00",
          "2020-05-23T00:00:00",
          "2020-05-24T00:00:00",
          "2020-05-25T00:00:00",
          "2020-05-26T00:00:00",
          "2020-05-27T00:00:00",
          "2020-05-28T00:00:00",
          "2020-05-29T00:00:00",
          "2020-05-30T00:00:00",
          "2020-05-31T00:00:00",
          "2020-06-01T00:00:00",
          "2020-06-02T00:00:00",
          "2020-06-03T00:00:00",
          "2020-06-04T00:00:00",
          "2020-06-05T00:00:00",
          "2020-06-06T00:00:00",
          "2020-06-07T00:00:00",
          "2020-06-08T00:00:00",
          "2020-06-09T00:00:00",
          "2020-06-10T00:00:00",
          "2020-06-11T00:00:00",
          "2020-06-12T00:00:00",
          "2020-06-13T00:00:00",
          "2020-06-14T00:00:00",
          "2020-06-15T00:00:00",
          "2020-06-16T00:00:00",
          "2020-06-17T00:00:00",
          "2020-06-18T00:00:00",
          "2020-06-19T00:00:00",
          "2020-06-20T00:00:00",
          "2020-06-21T00:00:00"
         ],
         "xaxis": "x",
         "y": [
          156487.09,
          70723.58,
          86516.49,
          112436.39,
          97496.13,
          135816.21,
          178233.18,
          168061.93,
          88906.06,
          87716.01,
          108301.6,
          103636.58,
          150087.55,
          173760.76,
          181937.15,
          92799.7,
          92555.41,
          91947.38,
          101678.89,
          144205.75,
          171987.5,
          165953.28,
          76814.22,
          81524.03,
          85657.2,
          98749.47,
          145681.71,
          172870.08,
          170014.07,
          77006.25,
          90188.38,
          107303.09,
          103853.38,
          146800.85,
          180640.4,
          154987.07,
          88121.14,
          108754.44,
          109503.13,
          106254.04,
          136119.36,
          166315.07,
          181275.21,
          93316.26,
          87856.35,
          99114.58,
          97997.66,
          141365.67,
          166151.64,
          163815.64,
          73045.89,
          91687.73,
          91655.98,
          98055.88,
          150718.53,
          179114.27,
          174360.57,
          81551.85,
          224926.55,
          126447.23,
          182426.36000000002,
          214490.78,
          221443.55,
          123154.85,
          112385.48,
          139070.77,
          135104.21,
          175883.74,
          237672.43,
          231650.16,
          104592.5,
          110703.4,
          137732.15,
          143384.11,
          199057.15,
          209019.16,
          193284.35,
          98314.48,
          129872.23,
          127082.36,
          152387.17,
          197709.72,
          210923.13,
          232756.95,
          108902.95,
          116145.46,
          131729.85,
          120771.9,
          186549.61,
          217238.21,
          201691.58,
          95332.3,
          119240.45,
          143304.82,
          120898.17,
          185896.8,
          239164.15,
          210391.21,
          94894.05,
          114241.29,
          122745.66,
          136113.95,
          191190.76,
          196171.14,
          202464.36,
          108690.76,
          123050.42,
          136050.7,
          139194.52,
          187275.69,
          216255.63,
          209358.4,
          102113.34,
          129671.48,
          126447.78,
          150968.13,
          200061.96,
          211787.09,
          228086.83,
          118751.16,
          118184.04,
          129744.09,
          130308.95,
          181036.57,
          210071.31,
          204325.19,
          102367.15,
          116485.29,
          130211.21,
          129936.91,
          183042.43,
          225684.23,
          214729.62,
          112185.92,
          125175.96,
          133875.74,
          132442.41,
          179575.81,
          212228.1,
          247510.33,
          105499.09,
          114072.54,
          126218.25,
          143473.88,
          230273.34,
          274885.24,
          255876.32,
          127174.95,
          144776.24,
          173585.17,
          145947.04,
          221685.76,
          269404.83,
          265499.94,
          124283.77,
          138634.74,
          155712.34,
          154348.94,
          237014.58,
          259858.23,
          279909.73,
          132473.32,
          137645.91,
          155923.7,
          196445.06,
          244200.79,
          284793.43,
          261364.08,
          130388.81999999999,
          144248.59,
          158794.76,
          172977.14,
          237216.34,
          288664.76,
          277637.11,
          122968.85,
          143375.42,
          154278.38,
          168267.55,
          248281.06,
          270099.49,
          257189.04,
          127586.81,
          141813.31,
          157632.69,
          170447.61,
          260879.07,
          268946.15,
          265205.71,
          126521.71,
          151721.81,
          180463.03,
          170650.47,
          228120.2,
          261373.24,
          272762.86,
          128713.91,
          140595.38,
          163108.3,
          148720.17,
          207013.26,
          303633.57,
          272085.72,
          127110.36,
          136596.77,
          172318.35,
          156752.97,
          236571.59,
          287398.3,
          261483.07,
          124095.16,
          136516.15,
          155876.34,
          173318.14,
          238144.76,
          272020.18,
          258726.66,
          123099.4,
          154636.93,
          151645.65,
          157954.98,
          229242.23,
          278609.63,
          277760.35,
          134104.73,
          137366.81,
          159338.67,
          162101.45,
          241870.31,
          268880.79,
          292757.65,
          125577.21,
          133001.92,
          152221.74,
          148433.33,
          223089.57,
          285961.62,
          253110.5,
          123202.98,
          146903.15,
          169274.7,
          186360.72,
          232695.55,
          282561.59,
          215138.06,
          112717.19,
          121275.76,
          120035.02,
          121323,
          183202.17,
          215398.64,
          219377,
          104642.83,
          132316.09,
          124440.81,
          136907.92,
          213712.56,
          204818.82,
          219281.67,
          100471.35,
          131500.28,
          139594.88,
          135424.2,
          179889.31,
          226720.32,
          227290.93,
          103155.76,
          109295.81999999999,
          119583.07,
          137743.08,
          197444.11,
          214537.22,
          200034.96,
          107907.88,
          122120.59,
          136004.86,
          128410.38,
          189435.98,
          216518.04,
          198961,
          93629.4,
          114972.1,
          142828.91,
          135444.58,
          203365.55,
          214916.84,
          226402.6,
          93857.92,
          119249.76,
          147802.11000000002,
          147795.44,
          193639.79,
          239242.96,
          214816.28,
          106946.23,
          125672.63,
          133617.6,
          122049.51,
          183849.69,
          210313.22,
          220704.06,
          109631.77,
          117653.69,
          133506,
          140622.73,
          186811.88,
          216880.29,
          206483.09,
          105682.23,
          108356.2,
          140482.72,
          137548.84,
          174453.51,
          213849.96,
          206287.31,
          93987.26,
          105639.76,
          142198.88,
          133940.83,
          184983.37,
          245208.5,
          198336.64,
          100719.85,
          114183.54,
          127245.92,
          118140.75,
          188263.81,
          210690.8,
          242262.12,
          113072.5,
          117350.74,
          138944.31,
          127357.57,
          383266.68,
          449873.21,
          467916.96,
          198341.13,
          234157.4,
          267582.09,
          250537.64,
          387784.93,
          431437.57,
          417347.73,
          195313.42,
          247370.49,
          279276.91,
          257044.52,
          367827.11,
          455555.83,
          422399.97,
          226815.32,
          211826.2,
          264694.82,
          245869.47,
          380241.73,
          416191.18,
          429240.55,
          207699.66,
          231080.16,
          252099.19,
          248012.03,
          391150.54,
          420740.83,
          447632.46,
          215118.13,
          101896.31,
          84479.36,
          97360.32,
          146362.35,
          157380.39,
          162631.18,
          84608.81,
          109046.54,
          108361.69,
          94291.21,
          150544.33,
          175904.47,
          171119.4,
          70230.16,
          87020.01,
          102204.02,
          106583.99,
          167930.52,
          164056.5,
          154771.06,
          73125.01,
          75922.58,
          96601.41,
          103779.17,
          145415.72,
          162214.66,
          154740.94,
          70726.1,
          81145.8,
          99622.36,
          102988.12,
          147139.73,
          183897.4,
          162062.27,
          73781.01,
          87205.35,
          94111.03,
          91758.22,
          142319.3,
          161355.68,
          165551.87,
          86483.91,
          82994.22,
          89347.19,
          97759.77,
          139873.07,
          160787.95,
          180902.49,
          71700.38,
          87380.16,
          100690,
          102422.89,
          142425.03,
          170089.75,
          148915.66,
          85488.58,
          87192.73,
          96539.48,
          129768.93,
          0,
          202240.1,
          231020.19,
          212119.96,
          112755.93,
          109590.78,
          132433.48,
          125333.98,
          196332.27,
          219696.77,
          217481.44,
          122183.38,
          136768.53,
          126250.45,
          125630.08,
          196194.97,
          235793.57,
          215814.61,
          117526.05,
          128773.58,
          136257.74,
          144233.6,
          183376.84,
          227877.76,
          208512.06,
          100729.33,
          109276.42,
          129114.19,
          121968.29,
          190691.33,
          223668.02,
          222470.38,
          112255.81,
          133265.57,
          127174.57,
          121111.36,
          176726.97,
          221305.29,
          215582.9,
          96611.24,
          120769,
          132229.57,
          128333.44,
          186382.32,
          224864.55,
          215242.5,
          111314.71,
          116073.95,
          144443.16,
          123668.34,
          191535.58,
          227245.78,
          221331.23,
          100767.83,
          112011.97,
          127620.24,
          129861.19,
          196298.5,
          223540.53,
          221060.28,
          112343.07,
          120358.33,
          133250.17,
          141502.77,
          189510.23,
          220866.8,
          206333.93,
          109792.1,
          130966.17,
          129949.14,
          135817.98,
          201611.5,
          223735.26,
          233244.84,
          107672.28,
          118595.39,
          119643.36,
          126233.29,
          185663.56,
          209870.83,
          215388.55,
          86482.89,
          120909.64,
          128437.6,
          127044.69,
          242348.25,
          271227.48,
          263256.79,
          129065.34,
          142647.61,
          164521.93,
          197791.64,
          230654.81,
          273514.23,
          286499.19,
          136664.92,
          143195.89,
          159802.48,
          152440.11,
          218711.45,
          298702.91,
          255865.74,
          128413.47,
          168896.63,
          162727.24,
          165243.19,
          239596.41,
          296172.66,
          259567.11,
          141792.48,
          166713.71,
          176152.74,
          172070.93,
          104241.26
         ],
         "yaxis": "y"
        }
       ],
       "layout": {
        "legend": {
         "title": {
          "text": "variable"
         },
         "tracegroupgap": 0
        },
        "template": {
         "data": {
          "bar": [
           {
            "error_x": {
             "color": "#2a3f5f"
            },
            "error_y": {
             "color": "#2a3f5f"
            },
            "marker": {
             "line": {
              "color": "#E5ECF6",
              "width": 0.5
             },
             "pattern": {
              "fillmode": "overlay",
              "size": 10,
              "solidity": 0.2
             }
            },
            "type": "bar"
           }
          ],
          "barpolar": [
           {
            "marker": {
             "line": {
              "color": "#E5ECF6",
              "width": 0.5
             },
             "pattern": {
              "fillmode": "overlay",
              "size": 10,
              "solidity": 0.2
             }
            },
            "type": "barpolar"
           }
          ],
          "carpet": [
           {
            "aaxis": {
             "endlinecolor": "#2a3f5f",
             "gridcolor": "white",
             "linecolor": "white",
             "minorgridcolor": "white",
             "startlinecolor": "#2a3f5f"
            },
            "baxis": {
             "endlinecolor": "#2a3f5f",
             "gridcolor": "white",
             "linecolor": "white",
             "minorgridcolor": "white",
             "startlinecolor": "#2a3f5f"
            },
            "type": "carpet"
           }
          ],
          "choropleth": [
           {
            "colorbar": {
             "outlinewidth": 0,
             "ticks": ""
            },
            "type": "choropleth"
           }
          ],
          "contour": [
           {
            "colorbar": {
             "outlinewidth": 0,
             "ticks": ""
            },
            "colorscale": [
             [
              0,
              "#0d0887"
             ],
             [
              0.1111111111111111,
              "#46039f"
             ],
             [
              0.2222222222222222,
              "#7201a8"
             ],
             [
              0.3333333333333333,
              "#9c179e"
             ],
             [
              0.4444444444444444,
              "#bd3786"
             ],
             [
              0.5555555555555556,
              "#d8576b"
             ],
             [
              0.6666666666666666,
              "#ed7953"
             ],
             [
              0.7777777777777778,
              "#fb9f3a"
             ],
             [
              0.8888888888888888,
              "#fdca26"
             ],
             [
              1,
              "#f0f921"
             ]
            ],
            "type": "contour"
           }
          ],
          "contourcarpet": [
           {
            "colorbar": {
             "outlinewidth": 0,
             "ticks": ""
            },
            "type": "contourcarpet"
           }
          ],
          "heatmap": [
           {
            "colorbar": {
             "outlinewidth": 0,
             "ticks": ""
            },
            "colorscale": [
             [
              0,
              "#0d0887"
             ],
             [
              0.1111111111111111,
              "#46039f"
             ],
             [
              0.2222222222222222,
              "#7201a8"
             ],
             [
              0.3333333333333333,
              "#9c179e"
             ],
             [
              0.4444444444444444,
              "#bd3786"
             ],
             [
              0.5555555555555556,
              "#d8576b"
             ],
             [
              0.6666666666666666,
              "#ed7953"
             ],
             [
              0.7777777777777778,
              "#fb9f3a"
             ],
             [
              0.8888888888888888,
              "#fdca26"
             ],
             [
              1,
              "#f0f921"
             ]
            ],
            "type": "heatmap"
           }
          ],
          "heatmapgl": [
           {
            "colorbar": {
             "outlinewidth": 0,
             "ticks": ""
            },
            "colorscale": [
             [
              0,
              "#0d0887"
             ],
             [
              0.1111111111111111,
              "#46039f"
             ],
             [
              0.2222222222222222,
              "#7201a8"
             ],
             [
              0.3333333333333333,
              "#9c179e"
             ],
             [
              0.4444444444444444,
              "#bd3786"
             ],
             [
              0.5555555555555556,
              "#d8576b"
             ],
             [
              0.6666666666666666,
              "#ed7953"
             ],
             [
              0.7777777777777778,
              "#fb9f3a"
             ],
             [
              0.8888888888888888,
              "#fdca26"
             ],
             [
              1,
              "#f0f921"
             ]
            ],
            "type": "heatmapgl"
           }
          ],
          "histogram": [
           {
            "marker": {
             "pattern": {
              "fillmode": "overlay",
              "size": 10,
              "solidity": 0.2
             }
            },
            "type": "histogram"
           }
          ],
          "histogram2d": [
           {
            "colorbar": {
             "outlinewidth": 0,
             "ticks": ""
            },
            "colorscale": [
             [
              0,
              "#0d0887"
             ],
             [
              0.1111111111111111,
              "#46039f"
             ],
             [
              0.2222222222222222,
              "#7201a8"
             ],
             [
              0.3333333333333333,
              "#9c179e"
             ],
             [
              0.4444444444444444,
              "#bd3786"
             ],
             [
              0.5555555555555556,
              "#d8576b"
             ],
             [
              0.6666666666666666,
              "#ed7953"
             ],
             [
              0.7777777777777778,
              "#fb9f3a"
             ],
             [
              0.8888888888888888,
              "#fdca26"
             ],
             [
              1,
              "#f0f921"
             ]
            ],
            "type": "histogram2d"
           }
          ],
          "histogram2dcontour": [
           {
            "colorbar": {
             "outlinewidth": 0,
             "ticks": ""
            },
            "colorscale": [
             [
              0,
              "#0d0887"
             ],
             [
              0.1111111111111111,
              "#46039f"
             ],
             [
              0.2222222222222222,
              "#7201a8"
             ],
             [
              0.3333333333333333,
              "#9c179e"
             ],
             [
              0.4444444444444444,
              "#bd3786"
             ],
             [
              0.5555555555555556,
              "#d8576b"
             ],
             [
              0.6666666666666666,
              "#ed7953"
             ],
             [
              0.7777777777777778,
              "#fb9f3a"
             ],
             [
              0.8888888888888888,
              "#fdca26"
             ],
             [
              1,
              "#f0f921"
             ]
            ],
            "type": "histogram2dcontour"
           }
          ],
          "mesh3d": [
           {
            "colorbar": {
             "outlinewidth": 0,
             "ticks": ""
            },
            "type": "mesh3d"
           }
          ],
          "parcoords": [
           {
            "line": {
             "colorbar": {
              "outlinewidth": 0,
              "ticks": ""
             }
            },
            "type": "parcoords"
           }
          ],
          "pie": [
           {
            "automargin": true,
            "type": "pie"
           }
          ],
          "scatter": [
           {
            "fillpattern": {
             "fillmode": "overlay",
             "size": 10,
             "solidity": 0.2
            },
            "type": "scatter"
           }
          ],
          "scatter3d": [
           {
            "line": {
             "colorbar": {
              "outlinewidth": 0,
              "ticks": ""
             }
            },
            "marker": {
             "colorbar": {
              "outlinewidth": 0,
              "ticks": ""
             }
            },
            "type": "scatter3d"
           }
          ],
          "scattercarpet": [
           {
            "marker": {
             "colorbar": {
              "outlinewidth": 0,
              "ticks": ""
             }
            },
            "type": "scattercarpet"
           }
          ],
          "scattergeo": [
           {
            "marker": {
             "colorbar": {
              "outlinewidth": 0,
              "ticks": ""
             }
            },
            "type": "scattergeo"
           }
          ],
          "scattergl": [
           {
            "marker": {
             "colorbar": {
              "outlinewidth": 0,
              "ticks": ""
             }
            },
            "type": "scattergl"
           }
          ],
          "scattermapbox": [
           {
            "marker": {
             "colorbar": {
              "outlinewidth": 0,
              "ticks": ""
             }
            },
            "type": "scattermapbox"
           }
          ],
          "scatterpolar": [
           {
            "marker": {
             "colorbar": {
              "outlinewidth": 0,
              "ticks": ""
             }
            },
            "type": "scatterpolar"
           }
          ],
          "scatterpolargl": [
           {
            "marker": {
             "colorbar": {
              "outlinewidth": 0,
              "ticks": ""
             }
            },
            "type": "scatterpolargl"
           }
          ],
          "scatterternary": [
           {
            "marker": {
             "colorbar": {
              "outlinewidth": 0,
              "ticks": ""
             }
            },
            "type": "scatterternary"
           }
          ],
          "surface": [
           {
            "colorbar": {
             "outlinewidth": 0,
             "ticks": ""
            },
            "colorscale": [
             [
              0,
              "#0d0887"
             ],
             [
              0.1111111111111111,
              "#46039f"
             ],
             [
              0.2222222222222222,
              "#7201a8"
             ],
             [
              0.3333333333333333,
              "#9c179e"
             ],
             [
              0.4444444444444444,
              "#bd3786"
             ],
             [
              0.5555555555555556,
              "#d8576b"
             ],
             [
              0.6666666666666666,
              "#ed7953"
             ],
             [
              0.7777777777777778,
              "#fb9f3a"
             ],
             [
              0.8888888888888888,
              "#fdca26"
             ],
             [
              1,
              "#f0f921"
             ]
            ],
            "type": "surface"
           }
          ],
          "table": [
           {
            "cells": {
             "fill": {
              "color": "#EBF0F8"
             },
             "line": {
              "color": "white"
             }
            },
            "header": {
             "fill": {
              "color": "#C8D4E3"
             },
             "line": {
              "color": "white"
             }
            },
            "type": "table"
           }
          ]
         },
         "layout": {
          "annotationdefaults": {
           "arrowcolor": "#2a3f5f",
           "arrowhead": 0,
           "arrowwidth": 1
          },
          "autotypenumbers": "strict",
          "coloraxis": {
           "colorbar": {
            "outlinewidth": 0,
            "ticks": ""
           }
          },
          "colorscale": {
           "diverging": [
            [
             0,
             "#8e0152"
            ],
            [
             0.1,
             "#c51b7d"
            ],
            [
             0.2,
             "#de77ae"
            ],
            [
             0.3,
             "#f1b6da"
            ],
            [
             0.4,
             "#fde0ef"
            ],
            [
             0.5,
             "#f7f7f7"
            ],
            [
             0.6,
             "#e6f5d0"
            ],
            [
             0.7,
             "#b8e186"
            ],
            [
             0.8,
             "#7fbc41"
            ],
            [
             0.9,
             "#4d9221"
            ],
            [
             1,
             "#276419"
            ]
           ],
           "sequential": [
            [
             0,
             "#0d0887"
            ],
            [
             0.1111111111111111,
             "#46039f"
            ],
            [
             0.2222222222222222,
             "#7201a8"
            ],
            [
             0.3333333333333333,
             "#9c179e"
            ],
            [
             0.4444444444444444,
             "#bd3786"
            ],
            [
             0.5555555555555556,
             "#d8576b"
            ],
            [
             0.6666666666666666,
             "#ed7953"
            ],
            [
             0.7777777777777778,
             "#fb9f3a"
            ],
            [
             0.8888888888888888,
             "#fdca26"
            ],
            [
             1,
             "#f0f921"
            ]
           ],
           "sequentialminus": [
            [
             0,
             "#0d0887"
            ],
            [
             0.1111111111111111,
             "#46039f"
            ],
            [
             0.2222222222222222,
             "#7201a8"
            ],
            [
             0.3333333333333333,
             "#9c179e"
            ],
            [
             0.4444444444444444,
             "#bd3786"
            ],
            [
             0.5555555555555556,
             "#d8576b"
            ],
            [
             0.6666666666666666,
             "#ed7953"
            ],
            [
             0.7777777777777778,
             "#fb9f3a"
            ],
            [
             0.8888888888888888,
             "#fdca26"
            ],
            [
             1,
             "#f0f921"
            ]
           ]
          },
          "colorway": [
           "#636efa",
           "#EF553B",
           "#00cc96",
           "#ab63fa",
           "#FFA15A",
           "#19d3f3",
           "#FF6692",
           "#B6E880",
           "#FF97FF",
           "#FECB52"
          ],
          "font": {
           "color": "#2a3f5f"
          },
          "geo": {
           "bgcolor": "white",
           "lakecolor": "white",
           "landcolor": "#E5ECF6",
           "showlakes": true,
           "showland": true,
           "subunitcolor": "white"
          },
          "hoverlabel": {
           "align": "left"
          },
          "hovermode": "closest",
          "mapbox": {
           "style": "light"
          },
          "paper_bgcolor": "white",
          "plot_bgcolor": "#E5ECF6",
          "polar": {
           "angularaxis": {
            "gridcolor": "white",
            "linecolor": "white",
            "ticks": ""
           },
           "bgcolor": "#E5ECF6",
           "radialaxis": {
            "gridcolor": "white",
            "linecolor": "white",
            "ticks": ""
           }
          },
          "scene": {
           "xaxis": {
            "backgroundcolor": "#E5ECF6",
            "gridcolor": "white",
            "gridwidth": 2,
            "linecolor": "white",
            "showbackground": true,
            "ticks": "",
            "zerolinecolor": "white"
           },
           "yaxis": {
            "backgroundcolor": "#E5ECF6",
            "gridcolor": "white",
            "gridwidth": 2,
            "linecolor": "white",
            "showbackground": true,
            "ticks": "",
            "zerolinecolor": "white"
           },
           "zaxis": {
            "backgroundcolor": "#E5ECF6",
            "gridcolor": "white",
            "gridwidth": 2,
            "linecolor": "white",
            "showbackground": true,
            "ticks": "",
            "zerolinecolor": "white"
           }
          },
          "shapedefaults": {
           "line": {
            "color": "#2a3f5f"
           }
          },
          "ternary": {
           "aaxis": {
            "gridcolor": "white",
            "linecolor": "white",
            "ticks": ""
           },
           "baxis": {
            "gridcolor": "white",
            "linecolor": "white",
            "ticks": ""
           },
           "bgcolor": "#E5ECF6",
           "caxis": {
            "gridcolor": "white",
            "linecolor": "white",
            "ticks": ""
           }
          },
          "title": {
           "x": 0.05
          },
          "xaxis": {
           "automargin": true,
           "gridcolor": "white",
           "linecolor": "white",
           "ticks": "",
           "title": {
            "standoff": 15
           },
           "zerolinecolor": "white",
           "zerolinewidth": 2
          },
          "yaxis": {
           "automargin": true,
           "gridcolor": "white",
           "linecolor": "white",
           "ticks": "",
           "title": {
            "standoff": 15
           },
           "zerolinecolor": "white",
           "zerolinewidth": 2
          }
         }
        },
        "title": {
         "text": "Daily Transaction Amounts"
        },
        "xaxis": {
         "anchor": "y",
         "domain": [
          0,
          1
         ],
         "title": {
          "text": "trans_date_trans_time"
         }
        },
        "yaxis": {
         "anchor": "x",
         "domain": [
          0,
          1
         ],
         "title": {
          "text": "value"
         }
        }
       }
      }
     },
     "metadata": {},
     "output_type": "display_data"
    }
   ],
   "source": [
    "df[\"trans_date_trans_time\"] = pd.to_datetime(df[\"trans_date_trans_time\"])\n",
    "df = df.sort_values(\"trans_date_trans_time\")\n",
    "ts = df.set_index(\"trans_date_trans_time\")[\"amt\"].resample(\"D\").sum()  # Daily total amounts\n",
    "fig = px.line(ts, title=\"Daily Transaction Amounts\")\n",
    "fig.show()"
   ]
  }
 ],
 "metadata": {
  "kernelspec": {
   "display_name": "mlds",
   "language": "python",
   "name": "python3"
  },
  "language_info": {
   "codemirror_mode": {
    "name": "ipython",
    "version": 3
   },
   "file_extension": ".py",
   "mimetype": "text/x-python",
   "name": "python",
   "nbconvert_exporter": "python",
   "pygments_lexer": "ipython3",
   "version": "3.11.3"
  }
 },
 "nbformat": 4,
 "nbformat_minor": 5
}
