!where python


import tensorflow


!python -c "import tensorflow as tf; print(tf.reduce_sum(tf.random.normal([1000, 1000])))"


import os
os.environ['TF_CPP_MIN_LOG_LEVEL'] = '0'

import tensorflow as tf
print(tf.__version__)


import os
os.add_dll_directory(r"C:\Windows\System32")
import tensorflow as tf

